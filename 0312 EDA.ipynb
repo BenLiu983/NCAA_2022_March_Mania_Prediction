{
 "cells": [
  {
   "cell_type": "code",
   "execution_count": 1,
   "id": "9cd03881",
   "metadata": {},
   "outputs": [],
   "source": [
    "import numpy as np # linear algebra\n",
    "import pandas as pd # data processing, CSV file I/O (e.g. pd.read_csv)\n",
    "\n",
    "# Input data files are available in the read-only \"../input/\" directory\n",
    "# For example, running this (by clicking run or pressing Shift+Enter) will list all files under the input directory\n",
    "\n",
    "import os\n",
    "for dirname, _, filenames in os.walk('/kaggle/input'):\n",
    "    for filename in filenames:\n",
    "        print(os.path.join(dirname, filename))"
   ]
  },
  {
   "cell_type": "code",
   "execution_count": 4,
   "id": "0804a535",
   "metadata": {},
   "outputs": [],
   "source": [
    "import os\n",
    "for dirname, _, filenames in os.walk('/kaggle/input'):\n",
    "    for filename in filenames:\n",
    "        print(os.path.join(dirname, filename))"
   ]
  },
  {
   "cell_type": "code",
   "execution_count": 5,
   "id": "86a2333f",
   "metadata": {},
   "outputs": [],
   "source": [
    "import re # Importing the Regular Expression Module..."
   ]
  },
  {
   "cell_type": "code",
   "execution_count": 6,
   "id": "061f572e",
   "metadata": {},
   "outputs": [
    {
     "name": "stdout",
     "output_type": "stream",
     "text": [
      "CPU times: user 38 µs, sys: 2 µs, total: 40 µs\n",
      "Wall time: 43.9 µs\n"
     ]
    }
   ],
   "source": [
    "%%time\n",
    "# I like to disable my Notebook Warnings.\n",
    "import warnings\n",
    "warnings.filterwarnings('ignore')\n"
   ]
  },
  {
   "cell_type": "code",
   "execution_count": 7,
   "id": "3c30924a",
   "metadata": {},
   "outputs": [
    {
     "name": "stdout",
     "output_type": "stream",
     "text": [
      "CPU times: user 3 µs, sys: 1e+03 ns, total: 4 µs\n",
      "Wall time: 6.91 µs\n"
     ]
    }
   ],
   "source": [
    "%%time\n",
    "# Notebook Configuration...\n",
    "\n",
    "# Amount of data we want to load into the Model...\n",
    "DATA_ROWS = None\n",
    "# Dataframe, the amount of rows and cols to visualize...\n",
    "NROWS = 50\n",
    "NCOLS = 15\n",
    "# Main data location path...\n",
    "BASE_PATH = '...'"
   ]
  },
  {
   "cell_type": "code",
   "execution_count": 8,
   "id": "30adfe26",
   "metadata": {},
   "outputs": [
    {
     "name": "stdout",
     "output_type": "stream",
     "text": [
      "CPU times: user 88 µs, sys: 1 µs, total: 89 µs\n",
      "Wall time: 92.7 µs\n"
     ]
    }
   ],
   "source": [
    "%%time\n",
    "# Configure notebook display settings to only use 2 decimal places, tables look nicer.\n",
    "pd.options.display.float_format = '{:,.2f}'.format\n",
    "pd.set_option('display.max_columns', NCOLS) \n",
    "pd.set_option('display.max_rows', NROWS)"
   ]
  },
  {
   "cell_type": "code",
   "execution_count": 15,
   "id": "5f1152c8",
   "metadata": {},
   "outputs": [
    {
     "name": "stdout",
     "output_type": "stream",
     "text": [
      "CPU times: user 654 ms, sys: 177 ms, total: 831 ms\n",
      "Wall time: 907 ms\n"
     ]
    }
   ],
   "source": [
    "%%time\n",
    "# Read the requiered datasets.\n",
    "season_data = pd.read_csv('MDataFiles_Stage1/MRegularSeasonCompactResults.csv')\n",
    "seeds = pd.read_csv('MDataFiles_Stage1/MNCAATourneySeeds.csv')\n",
    "\n",
    "public_rating = pd.read_csv('MDataFiles_Stage1/MMasseyOrdinals.csv')"
   ]
  },
  {
   "cell_type": "code",
   "execution_count": 16,
   "id": "e52abf91",
   "metadata": {},
   "outputs": [
    {
     "name": "stdout",
     "output_type": "stream",
     "text": [
      "<class 'pandas.core.frame.DataFrame'>\n",
      "RangeIndex: 174471 entries, 0 to 174470\n",
      "Data columns (total 8 columns):\n",
      " #   Column   Non-Null Count   Dtype \n",
      "---  ------   --------------   ----- \n",
      " 0   Season   174471 non-null  int64 \n",
      " 1   DayNum   174471 non-null  int64 \n",
      " 2   WTeamID  174471 non-null  int64 \n",
      " 3   WScore   174471 non-null  int64 \n",
      " 4   LTeamID  174471 non-null  int64 \n",
      " 5   LScore   174471 non-null  int64 \n",
      " 6   WLoc     174471 non-null  object\n",
      " 7   NumOT    174471 non-null  int64 \n",
      "dtypes: int64(7), object(1)\n",
      "memory usage: 10.6+ MB\n",
      "CPU times: user 29.7 ms, sys: 4.88 ms, total: 34.6 ms\n",
      "Wall time: 38.9 ms\n"
     ]
    }
   ],
   "source": [
    "%%time\n",
    "season_data.info()"
   ]
  },
  {
   "cell_type": "code",
   "execution_count": 17,
   "id": "04ec3a93",
   "metadata": {},
   "outputs": [
    {
     "name": "stdout",
     "output_type": "stream",
     "text": [
      "CPU times: user 140 µs, sys: 209 µs, total: 349 µs\n",
      "Wall time: 1.27 ms\n"
     ]
    },
    {
     "data": {
      "text/html": [
       "<div>\n",
       "<style scoped>\n",
       "    .dataframe tbody tr th:only-of-type {\n",
       "        vertical-align: middle;\n",
       "    }\n",
       "\n",
       "    .dataframe tbody tr th {\n",
       "        vertical-align: top;\n",
       "    }\n",
       "\n",
       "    .dataframe thead th {\n",
       "        text-align: right;\n",
       "    }\n",
       "</style>\n",
       "<table border=\"1\" class=\"dataframe\">\n",
       "  <thead>\n",
       "    <tr style=\"text-align: right;\">\n",
       "      <th></th>\n",
       "      <th>Season</th>\n",
       "      <th>DayNum</th>\n",
       "      <th>WTeamID</th>\n",
       "      <th>WScore</th>\n",
       "      <th>LTeamID</th>\n",
       "      <th>LScore</th>\n",
       "      <th>WLoc</th>\n",
       "      <th>NumOT</th>\n",
       "    </tr>\n",
       "  </thead>\n",
       "  <tbody>\n",
       "    <tr>\n",
       "      <th>0</th>\n",
       "      <td>1985</td>\n",
       "      <td>20</td>\n",
       "      <td>1228</td>\n",
       "      <td>81</td>\n",
       "      <td>1328</td>\n",
       "      <td>64</td>\n",
       "      <td>N</td>\n",
       "      <td>0</td>\n",
       "    </tr>\n",
       "    <tr>\n",
       "      <th>1</th>\n",
       "      <td>1985</td>\n",
       "      <td>25</td>\n",
       "      <td>1106</td>\n",
       "      <td>77</td>\n",
       "      <td>1354</td>\n",
       "      <td>70</td>\n",
       "      <td>H</td>\n",
       "      <td>0</td>\n",
       "    </tr>\n",
       "    <tr>\n",
       "      <th>2</th>\n",
       "      <td>1985</td>\n",
       "      <td>25</td>\n",
       "      <td>1112</td>\n",
       "      <td>63</td>\n",
       "      <td>1223</td>\n",
       "      <td>56</td>\n",
       "      <td>H</td>\n",
       "      <td>0</td>\n",
       "    </tr>\n",
       "    <tr>\n",
       "      <th>3</th>\n",
       "      <td>1985</td>\n",
       "      <td>25</td>\n",
       "      <td>1165</td>\n",
       "      <td>70</td>\n",
       "      <td>1432</td>\n",
       "      <td>54</td>\n",
       "      <td>H</td>\n",
       "      <td>0</td>\n",
       "    </tr>\n",
       "    <tr>\n",
       "      <th>4</th>\n",
       "      <td>1985</td>\n",
       "      <td>25</td>\n",
       "      <td>1192</td>\n",
       "      <td>86</td>\n",
       "      <td>1447</td>\n",
       "      <td>74</td>\n",
       "      <td>H</td>\n",
       "      <td>0</td>\n",
       "    </tr>\n",
       "  </tbody>\n",
       "</table>\n",
       "</div>"
      ],
      "text/plain": [
       "   Season  DayNum  WTeamID  WScore  LTeamID  LScore WLoc  NumOT\n",
       "0    1985      20     1228      81     1328      64    N      0\n",
       "1    1985      25     1106      77     1354      70    H      0\n",
       "2    1985      25     1112      63     1223      56    H      0\n",
       "3    1985      25     1165      70     1432      54    H      0\n",
       "4    1985      25     1192      86     1447      74    H      0"
      ]
     },
     "execution_count": 17,
     "metadata": {},
     "output_type": "execute_result"
    }
   ],
   "source": [
    "%%time\n",
    "season_data.head()"
   ]
  },
  {
   "cell_type": "code",
   "execution_count": 18,
   "id": "f91866dc",
   "metadata": {},
   "outputs": [
    {
     "name": "stdout",
     "output_type": "stream",
     "text": [
      "CPU times: user 34.8 ms, sys: 9.33 ms, total: 44.1 ms\n",
      "Wall time: 45.3 ms\n"
     ]
    },
    {
     "data": {
      "text/html": [
       "<div>\n",
       "<style scoped>\n",
       "    .dataframe tbody tr th:only-of-type {\n",
       "        vertical-align: middle;\n",
       "    }\n",
       "\n",
       "    .dataframe tbody tr th {\n",
       "        vertical-align: top;\n",
       "    }\n",
       "\n",
       "    .dataframe thead th {\n",
       "        text-align: right;\n",
       "    }\n",
       "</style>\n",
       "<table border=\"1\" class=\"dataframe\">\n",
       "  <thead>\n",
       "    <tr style=\"text-align: right;\">\n",
       "      <th></th>\n",
       "      <th>Season</th>\n",
       "      <th>DayNum</th>\n",
       "      <th>WTeamID</th>\n",
       "      <th>WScore</th>\n",
       "      <th>LTeamID</th>\n",
       "      <th>LScore</th>\n",
       "      <th>NumOT</th>\n",
       "    </tr>\n",
       "  </thead>\n",
       "  <tbody>\n",
       "    <tr>\n",
       "      <th>count</th>\n",
       "      <td>174,471.00</td>\n",
       "      <td>174,471.00</td>\n",
       "      <td>174,471.00</td>\n",
       "      <td>174,471.00</td>\n",
       "      <td>174,471.00</td>\n",
       "      <td>174,471.00</td>\n",
       "      <td>174,471.00</td>\n",
       "    </tr>\n",
       "    <tr>\n",
       "      <th>mean</th>\n",
       "      <td>2,004.54</td>\n",
       "      <td>74.06</td>\n",
       "      <td>1,287.16</td>\n",
       "      <td>76.76</td>\n",
       "      <td>1,282.77</td>\n",
       "      <td>64.66</td>\n",
       "      <td>0.05</td>\n",
       "    </tr>\n",
       "    <tr>\n",
       "      <th>std</th>\n",
       "      <td>10.73</td>\n",
       "      <td>33.82</td>\n",
       "      <td>104.64</td>\n",
       "      <td>11.96</td>\n",
       "      <td>104.75</td>\n",
       "      <td>11.28</td>\n",
       "      <td>0.25</td>\n",
       "    </tr>\n",
       "    <tr>\n",
       "      <th>min</th>\n",
       "      <td>1,985.00</td>\n",
       "      <td>0.00</td>\n",
       "      <td>1,101.00</td>\n",
       "      <td>34.00</td>\n",
       "      <td>1,101.00</td>\n",
       "      <td>20.00</td>\n",
       "      <td>0.00</td>\n",
       "    </tr>\n",
       "    <tr>\n",
       "      <th>25%</th>\n",
       "      <td>1,995.00</td>\n",
       "      <td>47.00</td>\n",
       "      <td>1,198.00</td>\n",
       "      <td>69.00</td>\n",
       "      <td>1,191.00</td>\n",
       "      <td>57.00</td>\n",
       "      <td>0.00</td>\n",
       "    </tr>\n",
       "    <tr>\n",
       "      <th>50%</th>\n",
       "      <td>2,005.00</td>\n",
       "      <td>76.00</td>\n",
       "      <td>1,285.00</td>\n",
       "      <td>76.00</td>\n",
       "      <td>1,281.00</td>\n",
       "      <td>64.00</td>\n",
       "      <td>0.00</td>\n",
       "    </tr>\n",
       "    <tr>\n",
       "      <th>75%</th>\n",
       "      <td>2,014.00</td>\n",
       "      <td>103.00</td>\n",
       "      <td>1,380.00</td>\n",
       "      <td>84.00</td>\n",
       "      <td>1,375.00</td>\n",
       "      <td>72.00</td>\n",
       "      <td>0.00</td>\n",
       "    </tr>\n",
       "    <tr>\n",
       "      <th>max</th>\n",
       "      <td>2,022.00</td>\n",
       "      <td>132.00</td>\n",
       "      <td>1,472.00</td>\n",
       "      <td>186.00</td>\n",
       "      <td>1,472.00</td>\n",
       "      <td>150.00</td>\n",
       "      <td>6.00</td>\n",
       "    </tr>\n",
       "  </tbody>\n",
       "</table>\n",
       "</div>"
      ],
      "text/plain": [
       "          Season     DayNum    WTeamID     WScore    LTeamID     LScore  \\\n",
       "count 174,471.00 174,471.00 174,471.00 174,471.00 174,471.00 174,471.00   \n",
       "mean    2,004.54      74.06   1,287.16      76.76   1,282.77      64.66   \n",
       "std        10.73      33.82     104.64      11.96     104.75      11.28   \n",
       "min     1,985.00       0.00   1,101.00      34.00   1,101.00      20.00   \n",
       "25%     1,995.00      47.00   1,198.00      69.00   1,191.00      57.00   \n",
       "50%     2,005.00      76.00   1,285.00      76.00   1,281.00      64.00   \n",
       "75%     2,014.00     103.00   1,380.00      84.00   1,375.00      72.00   \n",
       "max     2,022.00     132.00   1,472.00     186.00   1,472.00     150.00   \n",
       "\n",
       "           NumOT  \n",
       "count 174,471.00  \n",
       "mean        0.05  \n",
       "std         0.25  \n",
       "min         0.00  \n",
       "25%         0.00  \n",
       "50%         0.00  \n",
       "75%         0.00  \n",
       "max         6.00  "
      ]
     },
     "execution_count": 18,
     "metadata": {},
     "output_type": "execute_result"
    }
   ],
   "source": [
    "%%time\n",
    "season_data.describe()"
   ]
  },
  {
   "cell_type": "markdown",
   "id": "ad0ac264",
   "metadata": {},
   "source": [
    "## Creating Features for the Model."
   ]
  },
  {
   "cell_type": "code",
   "execution_count": 19,
   "id": "49816444",
   "metadata": {},
   "outputs": [
    {
     "name": "stdout",
     "output_type": "stream",
     "text": [
      "CPU times: user 2 µs, sys: 1 µs, total: 3 µs\n",
      "Wall time: 6.91 µs\n"
     ]
    }
   ],
   "source": [
    "%%time\n",
    "def score_gap(df):\n",
    "    \"\"\"\n",
    "    \"\"\"\n",
    "    df['ScoreGap'] = df['WScore'] - df['LScore']\n",
    "    return df"
   ]
  },
  {
   "cell_type": "code",
   "execution_count": 20,
   "id": "d48ba157",
   "metadata": {},
   "outputs": [
    {
     "name": "stdout",
     "output_type": "stream",
     "text": [
      "CPU times: user 1.4 ms, sys: 235 µs, total: 1.64 ms\n",
      "Wall time: 1.34 ms\n"
     ]
    }
   ],
   "source": [
    "%%time\n",
    "season_data = score_gap(season_data)"
   ]
  },
  {
   "cell_type": "code",
   "execution_count": 21,
   "id": "97ea8e00",
   "metadata": {},
   "outputs": [
    {
     "name": "stdout",
     "output_type": "stream",
     "text": [
      "CPU times: user 132 µs, sys: 26 µs, total: 158 µs\n",
      "Wall time: 142 µs\n"
     ]
    },
    {
     "data": {
      "text/html": [
       "<div>\n",
       "<style scoped>\n",
       "    .dataframe tbody tr th:only-of-type {\n",
       "        vertical-align: middle;\n",
       "    }\n",
       "\n",
       "    .dataframe tbody tr th {\n",
       "        vertical-align: top;\n",
       "    }\n",
       "\n",
       "    .dataframe thead th {\n",
       "        text-align: right;\n",
       "    }\n",
       "</style>\n",
       "<table border=\"1\" class=\"dataframe\">\n",
       "  <thead>\n",
       "    <tr style=\"text-align: right;\">\n",
       "      <th></th>\n",
       "      <th>Season</th>\n",
       "      <th>DayNum</th>\n",
       "      <th>WTeamID</th>\n",
       "      <th>WScore</th>\n",
       "      <th>LTeamID</th>\n",
       "      <th>LScore</th>\n",
       "      <th>WLoc</th>\n",
       "      <th>NumOT</th>\n",
       "      <th>ScoreGap</th>\n",
       "    </tr>\n",
       "  </thead>\n",
       "  <tbody>\n",
       "    <tr>\n",
       "      <th>0</th>\n",
       "      <td>1985</td>\n",
       "      <td>20</td>\n",
       "      <td>1228</td>\n",
       "      <td>81</td>\n",
       "      <td>1328</td>\n",
       "      <td>64</td>\n",
       "      <td>N</td>\n",
       "      <td>0</td>\n",
       "      <td>17</td>\n",
       "    </tr>\n",
       "    <tr>\n",
       "      <th>1</th>\n",
       "      <td>1985</td>\n",
       "      <td>25</td>\n",
       "      <td>1106</td>\n",
       "      <td>77</td>\n",
       "      <td>1354</td>\n",
       "      <td>70</td>\n",
       "      <td>H</td>\n",
       "      <td>0</td>\n",
       "      <td>7</td>\n",
       "    </tr>\n",
       "    <tr>\n",
       "      <th>2</th>\n",
       "      <td>1985</td>\n",
       "      <td>25</td>\n",
       "      <td>1112</td>\n",
       "      <td>63</td>\n",
       "      <td>1223</td>\n",
       "      <td>56</td>\n",
       "      <td>H</td>\n",
       "      <td>0</td>\n",
       "      <td>7</td>\n",
       "    </tr>\n",
       "    <tr>\n",
       "      <th>3</th>\n",
       "      <td>1985</td>\n",
       "      <td>25</td>\n",
       "      <td>1165</td>\n",
       "      <td>70</td>\n",
       "      <td>1432</td>\n",
       "      <td>54</td>\n",
       "      <td>H</td>\n",
       "      <td>0</td>\n",
       "      <td>16</td>\n",
       "    </tr>\n",
       "    <tr>\n",
       "      <th>4</th>\n",
       "      <td>1985</td>\n",
       "      <td>25</td>\n",
       "      <td>1192</td>\n",
       "      <td>86</td>\n",
       "      <td>1447</td>\n",
       "      <td>74</td>\n",
       "      <td>H</td>\n",
       "      <td>0</td>\n",
       "      <td>12</td>\n",
       "    </tr>\n",
       "  </tbody>\n",
       "</table>\n",
       "</div>"
      ],
      "text/plain": [
       "   Season  DayNum  WTeamID  WScore  LTeamID  LScore WLoc  NumOT  ScoreGap\n",
       "0    1985      20     1228      81     1328      64    N      0        17\n",
       "1    1985      25     1106      77     1354      70    H      0         7\n",
       "2    1985      25     1112      63     1223      56    H      0         7\n",
       "3    1985      25     1165      70     1432      54    H      0        16\n",
       "4    1985      25     1192      86     1447      74    H      0        12"
      ]
     },
     "execution_count": 21,
     "metadata": {},
     "output_type": "execute_result"
    }
   ],
   "source": [
    "%%time\n",
    "season_data.head()"
   ]
  },
  {
   "cell_type": "code",
   "execution_count": 22,
   "id": "6e501777",
   "metadata": {},
   "outputs": [
    {
     "name": "stdout",
     "output_type": "stream",
     "text": [
      "CPU times: user 3 µs, sys: 1 µs, total: 4 µs\n",
      "Wall time: 8.34 µs\n"
     ]
    }
   ],
   "source": [
    "%%time\n",
    "# Creates an empty list of all the teams, Winners + Lossers to merge data back....\n",
    "def create_team_list(df, group_list = ['Season', 'WTeamID'], team_id = 'WTeamID'):\n",
    "    group = df.groupby(group_list).count().reset_index()\n",
    "    group = group[group_list].rename(columns={team_id: \"TeamID\"})\n",
    "    return group"
   ]
  },
  {
   "cell_type": "code",
   "execution_count": 23,
   "id": "d342ed56",
   "metadata": {},
   "outputs": [
    {
     "name": "stdout",
     "output_type": "stream",
     "text": [
      "CPU times: user 58.5 ms, sys: 12.5 ms, total: 71 ms\n",
      "Wall time: 75.4 ms\n"
     ]
    }
   ],
   "source": [
    "%%time\n",
    "winners = create_team_list(season_data, group_list = ['Season', 'WTeamID'], team_id = 'WTeamID')\n",
    "lossers = create_team_list(season_data, group_list = ['Season', 'LTeamID'], team_id = 'LTeamID')\n",
    "\n",
    "# Create an empty train dataset.\n",
    "team_agg_features = pd.concat([winners, lossers], axis = 0).drop_duplicates().sort_values(['Season', 'TeamID']).reset_index(drop = True)\n"
   ]
  },
  {
   "cell_type": "code",
   "execution_count": 24,
   "id": "38cc7ef2",
   "metadata": {},
   "outputs": [
    {
     "name": "stdout",
     "output_type": "stream",
     "text": [
      "CPU times: user 120 µs, sys: 19 µs, total: 139 µs\n",
      "Wall time: 131 µs\n"
     ]
    },
    {
     "data": {
      "text/html": [
       "<div>\n",
       "<style scoped>\n",
       "    .dataframe tbody tr th:only-of-type {\n",
       "        vertical-align: middle;\n",
       "    }\n",
       "\n",
       "    .dataframe tbody tr th {\n",
       "        vertical-align: top;\n",
       "    }\n",
       "\n",
       "    .dataframe thead th {\n",
       "        text-align: right;\n",
       "    }\n",
       "</style>\n",
       "<table border=\"1\" class=\"dataframe\">\n",
       "  <thead>\n",
       "    <tr style=\"text-align: right;\">\n",
       "      <th></th>\n",
       "      <th>Season</th>\n",
       "      <th>TeamID</th>\n",
       "    </tr>\n",
       "  </thead>\n",
       "  <tbody>\n",
       "    <tr>\n",
       "      <th>0</th>\n",
       "      <td>1985</td>\n",
       "      <td>1102</td>\n",
       "    </tr>\n",
       "    <tr>\n",
       "      <th>1</th>\n",
       "      <td>1985</td>\n",
       "      <td>1103</td>\n",
       "    </tr>\n",
       "    <tr>\n",
       "      <th>2</th>\n",
       "      <td>1985</td>\n",
       "      <td>1104</td>\n",
       "    </tr>\n",
       "    <tr>\n",
       "      <th>3</th>\n",
       "      <td>1985</td>\n",
       "      <td>1106</td>\n",
       "    </tr>\n",
       "    <tr>\n",
       "      <th>4</th>\n",
       "      <td>1985</td>\n",
       "      <td>1108</td>\n",
       "    </tr>\n",
       "  </tbody>\n",
       "</table>\n",
       "</div>"
      ],
      "text/plain": [
       "   Season  TeamID\n",
       "0    1985    1102\n",
       "1    1985    1103\n",
       "2    1985    1104\n",
       "3    1985    1106\n",
       "4    1985    1108"
      ]
     },
     "execution_count": 24,
     "metadata": {},
     "output_type": "execute_result"
    }
   ],
   "source": [
    "%%time\n",
    "team_agg_features.head()"
   ]
  },
  {
   "cell_type": "code",
   "execution_count": 25,
   "id": "84151898",
   "metadata": {},
   "outputs": [
    {
     "name": "stdout",
     "output_type": "stream",
     "text": [
      "CPU times: user 2 µs, sys: 1 µs, total: 3 µs\n",
      "Wall time: 6.91 µs\n"
     ]
    }
   ],
   "source": [
    "%%time\n",
    "# Creating aggregated features...\n",
    "def winner_aggregated_features(df, group_list = ['Season', 'WTeamID']):\n",
    "    tmp = df.groupby(group_list).agg(NumWins       = ('WTeamID', 'count'), \n",
    "                                     AvgWinsGap    = ('ScoreGap', 'mean'),\n",
    "                                     W_TotalPoints = ('WScore', 'sum'),\n",
    "                                     W_MaxPoints   = ('WScore', 'max'),\n",
    "                                     W_MinPoints   = ('WScore', 'min'),\n",
    "                                    )\n",
    "    tmp = tmp.reset_index()\n",
    "    tmp = tmp.rename(columns={\"WTeamID\": \"TeamID\"})\n",
    "    \n",
    "    return tmp"
   ]
  },
  {
   "cell_type": "code",
   "execution_count": 26,
   "id": "88edef83",
   "metadata": {},
   "outputs": [
    {
     "name": "stdout",
     "output_type": "stream",
     "text": [
      "CPU times: user 4 µs, sys: 1 µs, total: 5 µs\n",
      "Wall time: 8.11 µs\n"
     ]
    }
   ],
   "source": [
    "%%time\n",
    "# Creating aggregated features...\n",
    "def losser_aggregated_features(df, group_list = ['Season', 'LTeamID']):\n",
    "    tmp = df.groupby(group_list).agg(NumLosses       = ('LTeamID', 'count'), \n",
    "                                     AvgLossesGap    = ('ScoreGap', 'mean'),\n",
    "                                     L_TotalPoints = ('LScore', 'sum'),\n",
    "                                     L_MaxPoints   = ('LScore', 'max'),\n",
    "                                     L_MinPoints   = ('LScore', 'min'),\n",
    "                                    )\n",
    "    tmp = tmp.reset_index()\n",
    "    tmp = tmp.rename(columns={\"LTeamID\": \"TeamID\"})\n",
    "    return tmp"
   ]
  },
  {
   "cell_type": "code",
   "execution_count": 27,
   "id": "6cc84b71",
   "metadata": {},
   "outputs": [
    {
     "name": "stdout",
     "output_type": "stream",
     "text": [
      "CPU times: user 36.3 ms, sys: 10.8 ms, total: 47.1 ms\n",
      "Wall time: 49.6 ms\n"
     ]
    }
   ],
   "source": [
    "%%time\n",
    "winner_team_aggregation = winner_aggregated_features(season_data)\n",
    "losser_team_aggregation = losser_aggregated_features(season_data)"
   ]
  },
  {
   "cell_type": "code",
   "execution_count": 28,
   "id": "b2261b27",
   "metadata": {},
   "outputs": [
    {
     "name": "stdout",
     "output_type": "stream",
     "text": [
      "CPU times: user 3 µs, sys: 1 µs, total: 4 µs\n",
      "Wall time: 6.91 µs\n"
     ]
    }
   ],
   "source": [
    "%%time\n",
    "def merge_back(df):\n",
    "    df = df.merge(winner_team_aggregation, on = ['Season', 'TeamID'], how = 'left')\n",
    "    df = df.merge(losser_team_aggregation, on = ['Season', 'TeamID'], how = 'left')\n",
    "    df.fillna(0, inplace = True) \n",
    "    return df"
   ]
  },
  {
   "cell_type": "code",
   "execution_count": 29,
   "id": "d7a0c3d2",
   "metadata": {},
   "outputs": [
    {
     "name": "stdout",
     "output_type": "stream",
     "text": [
      "CPU times: user 13 ms, sys: 2.5 ms, total: 15.5 ms\n",
      "Wall time: 14.8 ms\n"
     ]
    }
   ],
   "source": [
    "%%time\n",
    "team_agg_features = merge_back(team_agg_features)"
   ]
  },
  {
   "cell_type": "code",
   "execution_count": 30,
   "id": "d8a60d83",
   "metadata": {},
   "outputs": [
    {
     "name": "stdout",
     "output_type": "stream",
     "text": [
      "CPU times: user 3.34 ms, sys: 1.04 ms, total: 4.38 ms\n",
      "Wall time: 3.53 ms\n"
     ]
    }
   ],
   "source": [
    "%%time\n",
    "def calculate_features(df):\n",
    "    \"\"\"\n",
    "    \n",
    "    \"\"\"\n",
    "    df['WinRatio'] = df['NumWins'] / (df['NumWins'] + df['NumLosses'])\n",
    "    df['AvgScoreGap'] = ((df['NumWins'] * df['AvgWinsGap'] - df['NumLosses'] * df['AvgLossesGap']) / (df['NumWins'] + df['NumLosses']))\n",
    "    df['PointsRatio'] = df['W_TotalPoints'] / (df['L_TotalPoints'] + df['W_TotalPoints'])\n",
    "    return df\n",
    "\n",
    "team_agg_features = calculate_features(team_agg_features)\n"
   ]
  },
  {
   "cell_type": "code",
   "execution_count": 31,
   "id": "bafd2103",
   "metadata": {},
   "outputs": [
    {
     "name": "stdout",
     "output_type": "stream",
     "text": [
      "CPU times: user 1.89 ms, sys: 1.1 ms, total: 2.99 ms\n",
      "Wall time: 2.16 ms\n"
     ]
    }
   ],
   "source": [
    "%%time\n",
    "team_agg_features = team_agg_features[['Season','TeamID','WinRatio', 'AvgScoreGap','PointsRatio']]"
   ]
  },
  {
   "cell_type": "code",
   "execution_count": 32,
   "id": "211f1ea2",
   "metadata": {},
   "outputs": [
    {
     "name": "stdout",
     "output_type": "stream",
     "text": [
      "CPU times: user 110 µs, sys: 1 µs, total: 111 µs\n",
      "Wall time: 115 µs\n"
     ]
    },
    {
     "data": {
      "text/html": [
       "<div>\n",
       "<style scoped>\n",
       "    .dataframe tbody tr th:only-of-type {\n",
       "        vertical-align: middle;\n",
       "    }\n",
       "\n",
       "    .dataframe tbody tr th {\n",
       "        vertical-align: top;\n",
       "    }\n",
       "\n",
       "    .dataframe thead th {\n",
       "        text-align: right;\n",
       "    }\n",
       "</style>\n",
       "<table border=\"1\" class=\"dataframe\">\n",
       "  <thead>\n",
       "    <tr style=\"text-align: right;\">\n",
       "      <th></th>\n",
       "      <th>Season</th>\n",
       "      <th>TeamID</th>\n",
       "      <th>WinRatio</th>\n",
       "      <th>AvgScoreGap</th>\n",
       "      <th>PointsRatio</th>\n",
       "    </tr>\n",
       "  </thead>\n",
       "  <tbody>\n",
       "    <tr>\n",
       "      <th>0</th>\n",
       "      <td>1985</td>\n",
       "      <td>1102</td>\n",
       "      <td>0.21</td>\n",
       "      <td>-5.79</td>\n",
       "      <td>0.23</td>\n",
       "    </tr>\n",
       "    <tr>\n",
       "      <th>1</th>\n",
       "      <td>1985</td>\n",
       "      <td>1103</td>\n",
       "      <td>0.39</td>\n",
       "      <td>-3.04</td>\n",
       "      <td>0.45</td>\n",
       "    </tr>\n",
       "    <tr>\n",
       "      <th>2</th>\n",
       "      <td>1985</td>\n",
       "      <td>1104</td>\n",
       "      <td>0.70</td>\n",
       "      <td>7.80</td>\n",
       "      <td>0.74</td>\n",
       "    </tr>\n",
       "    <tr>\n",
       "      <th>3</th>\n",
       "      <td>1985</td>\n",
       "      <td>1106</td>\n",
       "      <td>0.42</td>\n",
       "      <td>-3.79</td>\n",
       "      <td>0.44</td>\n",
       "    </tr>\n",
       "    <tr>\n",
       "      <th>4</th>\n",
       "      <td>1985</td>\n",
       "      <td>1108</td>\n",
       "      <td>0.76</td>\n",
       "      <td>7.96</td>\n",
       "      <td>0.79</td>\n",
       "    </tr>\n",
       "  </tbody>\n",
       "</table>\n",
       "</div>"
      ],
      "text/plain": [
       "   Season  TeamID  WinRatio  AvgScoreGap  PointsRatio\n",
       "0    1985    1102      0.21        -5.79         0.23\n",
       "1    1985    1103      0.39        -3.04         0.45\n",
       "2    1985    1104      0.70         7.80         0.74\n",
       "3    1985    1106      0.42        -3.79         0.44\n",
       "4    1985    1108      0.76         7.96         0.79"
      ]
     },
     "execution_count": 32,
     "metadata": {},
     "output_type": "execute_result"
    }
   ],
   "source": [
    "%%time\n",
    "team_agg_features.head()"
   ]
  },
  {
   "cell_type": "markdown",
   "id": "9196f86d",
   "metadata": {},
   "source": [
    "### Creating the Training Dataset"
   ]
  },
  {
   "cell_type": "code",
   "execution_count": 34,
   "id": "c82a37bd",
   "metadata": {},
   "outputs": [
    {
     "name": "stdout",
     "output_type": "stream",
     "text": [
      "CPU times: user 3.94 ms, sys: 2.07 ms, total: 6.01 ms\n",
      "Wall time: 5.21 ms\n"
     ]
    },
    {
     "data": {
      "text/html": [
       "<div>\n",
       "<style scoped>\n",
       "    .dataframe tbody tr th:only-of-type {\n",
       "        vertical-align: middle;\n",
       "    }\n",
       "\n",
       "    .dataframe tbody tr th {\n",
       "        vertical-align: top;\n",
       "    }\n",
       "\n",
       "    .dataframe thead th {\n",
       "        text-align: right;\n",
       "    }\n",
       "</style>\n",
       "<table border=\"1\" class=\"dataframe\">\n",
       "  <thead>\n",
       "    <tr style=\"text-align: right;\">\n",
       "      <th></th>\n",
       "      <th>Season</th>\n",
       "      <th>DayNum</th>\n",
       "      <th>WTeamID</th>\n",
       "      <th>WScore</th>\n",
       "      <th>LTeamID</th>\n",
       "      <th>LScore</th>\n",
       "      <th>WLoc</th>\n",
       "      <th>NumOT</th>\n",
       "    </tr>\n",
       "  </thead>\n",
       "  <tbody>\n",
       "    <tr>\n",
       "      <th>0</th>\n",
       "      <td>1985</td>\n",
       "      <td>136</td>\n",
       "      <td>1116</td>\n",
       "      <td>63</td>\n",
       "      <td>1234</td>\n",
       "      <td>54</td>\n",
       "      <td>N</td>\n",
       "      <td>0</td>\n",
       "    </tr>\n",
       "    <tr>\n",
       "      <th>1</th>\n",
       "      <td>1985</td>\n",
       "      <td>136</td>\n",
       "      <td>1120</td>\n",
       "      <td>59</td>\n",
       "      <td>1345</td>\n",
       "      <td>58</td>\n",
       "      <td>N</td>\n",
       "      <td>0</td>\n",
       "    </tr>\n",
       "    <tr>\n",
       "      <th>2</th>\n",
       "      <td>1985</td>\n",
       "      <td>136</td>\n",
       "      <td>1207</td>\n",
       "      <td>68</td>\n",
       "      <td>1250</td>\n",
       "      <td>43</td>\n",
       "      <td>N</td>\n",
       "      <td>0</td>\n",
       "    </tr>\n",
       "    <tr>\n",
       "      <th>3</th>\n",
       "      <td>1985</td>\n",
       "      <td>136</td>\n",
       "      <td>1229</td>\n",
       "      <td>58</td>\n",
       "      <td>1425</td>\n",
       "      <td>55</td>\n",
       "      <td>N</td>\n",
       "      <td>0</td>\n",
       "    </tr>\n",
       "    <tr>\n",
       "      <th>4</th>\n",
       "      <td>1985</td>\n",
       "      <td>136</td>\n",
       "      <td>1242</td>\n",
       "      <td>49</td>\n",
       "      <td>1325</td>\n",
       "      <td>38</td>\n",
       "      <td>N</td>\n",
       "      <td>0</td>\n",
       "    </tr>\n",
       "  </tbody>\n",
       "</table>\n",
       "</div>"
      ],
      "text/plain": [
       "   Season  DayNum  WTeamID  WScore  LTeamID  LScore WLoc  NumOT\n",
       "0    1985     136     1116      63     1234      54    N      0\n",
       "1    1985     136     1120      59     1345      58    N      0\n",
       "2    1985     136     1207      68     1250      43    N      0\n",
       "3    1985     136     1229      58     1425      55    N      0\n",
       "4    1985     136     1242      49     1325      38    N      0"
      ]
     },
     "execution_count": 34,
     "metadata": {},
     "output_type": "execute_result"
    }
   ],
   "source": [
    "%%time\n",
    "tournament_data = pd.read_csv('MDataFiles_Stage1/MNCAATourneyCompactResults.csv')\n",
    "tournament_data.head()"
   ]
  },
  {
   "cell_type": "code",
   "execution_count": 35,
   "id": "dfa8fe20",
   "metadata": {},
   "outputs": [
    {
     "name": "stdout",
     "output_type": "stream",
     "text": [
      "CPU times: user 15.8 ms, sys: 2.16 ms, total: 17.9 ms\n",
      "Wall time: 16.1 ms\n"
     ]
    },
    {
     "data": {
      "text/html": [
       "<div>\n",
       "<style scoped>\n",
       "    .dataframe tbody tr th:only-of-type {\n",
       "        vertical-align: middle;\n",
       "    }\n",
       "\n",
       "    .dataframe tbody tr th {\n",
       "        vertical-align: top;\n",
       "    }\n",
       "\n",
       "    .dataframe thead th {\n",
       "        text-align: right;\n",
       "    }\n",
       "</style>\n",
       "<table border=\"1\" class=\"dataframe\">\n",
       "  <thead>\n",
       "    <tr style=\"text-align: right;\">\n",
       "      <th></th>\n",
       "      <th>Season</th>\n",
       "      <th>DayNum</th>\n",
       "      <th>WTeamID</th>\n",
       "      <th>WScore</th>\n",
       "      <th>LTeamID</th>\n",
       "      <th>LScore</th>\n",
       "      <th>NumOT</th>\n",
       "    </tr>\n",
       "  </thead>\n",
       "  <tbody>\n",
       "    <tr>\n",
       "      <th>count</th>\n",
       "      <td>2,317.00</td>\n",
       "      <td>2,317.00</td>\n",
       "      <td>2,317.00</td>\n",
       "      <td>2,317.00</td>\n",
       "      <td>2,317.00</td>\n",
       "      <td>2,317.00</td>\n",
       "      <td>2,317.00</td>\n",
       "    </tr>\n",
       "    <tr>\n",
       "      <th>mean</th>\n",
       "      <td>2,002.76</td>\n",
       "      <td>139.17</td>\n",
       "      <td>1,286.54</td>\n",
       "      <td>76.89</td>\n",
       "      <td>1,292.02</td>\n",
       "      <td>65.17</td>\n",
       "      <td>0.07</td>\n",
       "    </tr>\n",
       "    <tr>\n",
       "      <th>std</th>\n",
       "      <td>10.47</td>\n",
       "      <td>4.22</td>\n",
       "      <td>100.99</td>\n",
       "      <td>11.84</td>\n",
       "      <td>103.29</td>\n",
       "      <td>11.06</td>\n",
       "      <td>0.28</td>\n",
       "    </tr>\n",
       "    <tr>\n",
       "      <th>min</th>\n",
       "      <td>1,985.00</td>\n",
       "      <td>134.00</td>\n",
       "      <td>1,101.00</td>\n",
       "      <td>43.00</td>\n",
       "      <td>1,101.00</td>\n",
       "      <td>29.00</td>\n",
       "      <td>0.00</td>\n",
       "    </tr>\n",
       "    <tr>\n",
       "      <th>25%</th>\n",
       "      <td>1,994.00</td>\n",
       "      <td>136.00</td>\n",
       "      <td>1,210.00</td>\n",
       "      <td>69.00</td>\n",
       "      <td>1,209.00</td>\n",
       "      <td>58.00</td>\n",
       "      <td>0.00</td>\n",
       "    </tr>\n",
       "    <tr>\n",
       "      <th>50%</th>\n",
       "      <td>2,003.00</td>\n",
       "      <td>137.00</td>\n",
       "      <td>1,276.00</td>\n",
       "      <td>76.00</td>\n",
       "      <td>1,290.00</td>\n",
       "      <td>65.00</td>\n",
       "      <td>0.00</td>\n",
       "    </tr>\n",
       "    <tr>\n",
       "      <th>75%</th>\n",
       "      <td>2,012.00</td>\n",
       "      <td>139.00</td>\n",
       "      <td>1,385.00</td>\n",
       "      <td>84.00</td>\n",
       "      <td>1,387.00</td>\n",
       "      <td>72.00</td>\n",
       "      <td>0.00</td>\n",
       "    </tr>\n",
       "    <tr>\n",
       "      <th>max</th>\n",
       "      <td>2,021.00</td>\n",
       "      <td>154.00</td>\n",
       "      <td>1,463.00</td>\n",
       "      <td>149.00</td>\n",
       "      <td>1,463.00</td>\n",
       "      <td>115.00</td>\n",
       "      <td>3.00</td>\n",
       "    </tr>\n",
       "  </tbody>\n",
       "</table>\n",
       "</div>"
      ],
      "text/plain": [
       "        Season   DayNum  WTeamID   WScore  LTeamID   LScore    NumOT\n",
       "count 2,317.00 2,317.00 2,317.00 2,317.00 2,317.00 2,317.00 2,317.00\n",
       "mean  2,002.76   139.17 1,286.54    76.89 1,292.02    65.17     0.07\n",
       "std      10.47     4.22   100.99    11.84   103.29    11.06     0.28\n",
       "min   1,985.00   134.00 1,101.00    43.00 1,101.00    29.00     0.00\n",
       "25%   1,994.00   136.00 1,210.00    69.00 1,209.00    58.00     0.00\n",
       "50%   2,003.00   137.00 1,276.00    76.00 1,290.00    65.00     0.00\n",
       "75%   2,012.00   139.00 1,385.00    84.00 1,387.00    72.00     0.00\n",
       "max   2,021.00   154.00 1,463.00   149.00 1,463.00   115.00     3.00"
      ]
     },
     "execution_count": 35,
     "metadata": {},
     "output_type": "execute_result"
    }
   ],
   "source": [
    "%%time\n",
    "tournament_data.describe()"
   ]
  },
  {
   "cell_type": "code",
   "execution_count": 36,
   "id": "fd5286bc",
   "metadata": {},
   "outputs": [
    {
     "name": "stdout",
     "output_type": "stream",
     "text": [
      "CPU times: user 861 µs, sys: 137 µs, total: 998 µs\n",
      "Wall time: 961 µs\n"
     ]
    }
   ],
   "source": [
    "%%time\n",
    "tournament_data = tournament_data.rename(columns = {'WTeamID' : 'W_TeamID', 'LTeamID' : 'L_TeamID', 'WScore' : 'W_Score', 'LScore' : 'L_Score'})  \n"
   ]
  },
  {
   "cell_type": "code",
   "execution_count": 37,
   "id": "a88a63f7",
   "metadata": {},
   "outputs": [
    {
     "name": "stdout",
     "output_type": "stream",
     "text": [
      "CPU times: user 740 µs, sys: 25 µs, total: 765 µs\n",
      "Wall time: 756 µs\n"
     ]
    }
   ],
   "source": [
    "%%time\n",
    "# Drop non importante features from the dataset...\n",
    "tournament_data.drop(['NumOT', 'WLoc'], axis = 1, inplace = True)"
   ]
  },
  {
   "cell_type": "code",
   "execution_count": 38,
   "id": "1339da5b",
   "metadata": {},
   "outputs": [
    {
     "name": "stdout",
     "output_type": "stream",
     "text": [
      "CPU times: user 1.38 ms, sys: 853 µs, total: 2.24 ms\n",
      "Wall time: 1.53 ms\n"
     ]
    }
   ],
   "source": [
    "%%time\n",
    "MIN_SEASON = 2015\n",
    "# Remove data before 2003, no all the data is available...\n",
    "tournament_data = tournament_data[tournament_data['Season'] >= MIN_SEASON].reset_index(drop = True)"
   ]
  },
  {
   "cell_type": "code",
   "execution_count": 39,
   "id": "fe69b039",
   "metadata": {},
   "outputs": [
    {
     "name": "stdout",
     "output_type": "stream",
     "text": [
      "CPU times: user 116 µs, sys: 14 µs, total: 130 µs\n",
      "Wall time: 125 µs\n"
     ]
    },
    {
     "data": {
      "text/html": [
       "<div>\n",
       "<style scoped>\n",
       "    .dataframe tbody tr th:only-of-type {\n",
       "        vertical-align: middle;\n",
       "    }\n",
       "\n",
       "    .dataframe tbody tr th {\n",
       "        vertical-align: top;\n",
       "    }\n",
       "\n",
       "    .dataframe thead th {\n",
       "        text-align: right;\n",
       "    }\n",
       "</style>\n",
       "<table border=\"1\" class=\"dataframe\">\n",
       "  <thead>\n",
       "    <tr style=\"text-align: right;\">\n",
       "      <th></th>\n",
       "      <th>Season</th>\n",
       "      <th>DayNum</th>\n",
       "      <th>W_TeamID</th>\n",
       "      <th>W_Score</th>\n",
       "      <th>L_TeamID</th>\n",
       "      <th>L_Score</th>\n",
       "    </tr>\n",
       "  </thead>\n",
       "  <tbody>\n",
       "    <tr>\n",
       "      <th>0</th>\n",
       "      <td>2015</td>\n",
       "      <td>134</td>\n",
       "      <td>1214</td>\n",
       "      <td>74</td>\n",
       "      <td>1264</td>\n",
       "      <td>64</td>\n",
       "    </tr>\n",
       "    <tr>\n",
       "      <th>1</th>\n",
       "      <td>2015</td>\n",
       "      <td>134</td>\n",
       "      <td>1279</td>\n",
       "      <td>94</td>\n",
       "      <td>1140</td>\n",
       "      <td>90</td>\n",
       "    </tr>\n",
       "    <tr>\n",
       "      <th>2</th>\n",
       "      <td>2015</td>\n",
       "      <td>135</td>\n",
       "      <td>1173</td>\n",
       "      <td>56</td>\n",
       "      <td>1129</td>\n",
       "      <td>55</td>\n",
       "    </tr>\n",
       "    <tr>\n",
       "      <th>3</th>\n",
       "      <td>2015</td>\n",
       "      <td>135</td>\n",
       "      <td>1352</td>\n",
       "      <td>81</td>\n",
       "      <td>1316</td>\n",
       "      <td>77</td>\n",
       "    </tr>\n",
       "    <tr>\n",
       "      <th>4</th>\n",
       "      <td>2015</td>\n",
       "      <td>136</td>\n",
       "      <td>1112</td>\n",
       "      <td>93</td>\n",
       "      <td>1411</td>\n",
       "      <td>72</td>\n",
       "    </tr>\n",
       "  </tbody>\n",
       "</table>\n",
       "</div>"
      ],
      "text/plain": [
       "   Season  DayNum  W_TeamID  W_Score  L_TeamID  L_Score\n",
       "0    2015     134      1214       74      1264       64\n",
       "1    2015     134      1279       94      1140       90\n",
       "2    2015     135      1173       56      1129       55\n",
       "3    2015     135      1352       81      1316       77\n",
       "4    2015     136      1112       93      1411       72"
      ]
     },
     "execution_count": 39,
     "metadata": {},
     "output_type": "execute_result"
    }
   ],
   "source": [
    "%%time\n",
    "tournament_data.head()"
   ]
  },
  {
   "cell_type": "code",
   "execution_count": 40,
   "id": "bf62f856",
   "metadata": {},
   "outputs": [
    {
     "name": "stdout",
     "output_type": "stream",
     "text": [
      "CPU times: user 3 µs, sys: 1 µs, total: 4 µs\n",
      "Wall time: 8.34 µs\n"
     ]
    }
   ],
   "source": [
    "%%time\n",
    "def merge_seed(df, seed_df, left_on = ['Season', 'W_TeamID'], field_name = 'SeedW'):\n",
    "    df = pd.merge(df,seed_df, how = 'left', left_on = left_on, right_on = ['Season', 'TeamID'])\n",
    "    df = df.drop('TeamID', axis = 1).rename(columns = {'Seed': field_name})\n",
    "    return df\n"
   ]
  },
  {
   "cell_type": "code",
   "execution_count": 41,
   "id": "bdc4c3e9",
   "metadata": {},
   "outputs": [
    {
     "name": "stdout",
     "output_type": "stream",
     "text": [
      "CPU times: user 7.39 ms, sys: 2.04 ms, total: 9.43 ms\n",
      "Wall time: 7.63 ms\n"
     ]
    }
   ],
   "source": [
    "%%time\n",
    "tournament_data = merge_seed(tournament_data, seeds, left_on = ['Season', 'W_TeamID'], field_name = 'W_Seed')\n",
    "tournament_data = merge_seed(tournament_data, seeds, left_on = ['Season', 'L_TeamID'], field_name = 'L_Seed')"
   ]
  },
  {
   "cell_type": "code",
   "execution_count": 42,
   "id": "6753ccb4",
   "metadata": {},
   "outputs": [
    {
     "name": "stdout",
     "output_type": "stream",
     "text": [
      "CPU times: user 2.85 ms, sys: 79 µs, total: 2.93 ms\n",
      "Wall time: 2.87 ms\n"
     ]
    }
   ],
   "source": [
    "%%time\n",
    "def seed_number(row):\n",
    "    return int(re.sub(\"[^0-9]\", \"\", row))\n",
    "\n",
    "tournament_data['W_Seed'] = tournament_data['W_Seed'].apply(seed_number)\n",
    "tournament_data['L_Seed'] = tournament_data['L_Seed'].apply(seed_number)"
   ]
  },
  {
   "cell_type": "code",
   "execution_count": 43,
   "id": "2f72594d",
   "metadata": {},
   "outputs": [
    {
     "name": "stdout",
     "output_type": "stream",
     "text": [
      "CPU times: user 8.8 ms, sys: 1.91 ms, total: 10.7 ms\n",
      "Wall time: 9.2 ms\n"
     ]
    }
   ],
   "source": [
    "%%time\n",
    "def merge_agg_features(df, agg_features):\n",
    "    for result in ['W', 'L']:\n",
    "        df = pd.merge(df, agg_features, how = 'left', left_on = ['Season', result +'_'+ 'TeamID'], right_on = ['Season', 'TeamID'])\n",
    "        avoid = ['Season', 'TeamID']\n",
    "        new_names = {col: result +'_'+ col for col in agg_features.columns if col not in avoid}\n",
    "        df = df.rename(columns = new_names)        \n",
    "        df = df.drop(columns = 'TeamID', axis = 1)\n",
    "    return df\n",
    "\n",
    "tournament_data = merge_agg_features(tournament_data, team_agg_features)"
   ]
  },
  {
   "cell_type": "code",
   "execution_count": 44,
   "id": "f113be94",
   "metadata": {},
   "outputs": [
    {
     "name": "stdout",
     "output_type": "stream",
     "text": [
      "CPU times: user 122 µs, sys: 1 µs, total: 123 µs\n",
      "Wall time: 127 µs\n"
     ]
    },
    {
     "data": {
      "text/html": [
       "<div>\n",
       "<style scoped>\n",
       "    .dataframe tbody tr th:only-of-type {\n",
       "        vertical-align: middle;\n",
       "    }\n",
       "\n",
       "    .dataframe tbody tr th {\n",
       "        vertical-align: top;\n",
       "    }\n",
       "\n",
       "    .dataframe thead th {\n",
       "        text-align: right;\n",
       "    }\n",
       "</style>\n",
       "<table border=\"1\" class=\"dataframe\">\n",
       "  <thead>\n",
       "    <tr style=\"text-align: right;\">\n",
       "      <th></th>\n",
       "      <th>Season</th>\n",
       "      <th>DayNum</th>\n",
       "      <th>W_TeamID</th>\n",
       "      <th>W_Score</th>\n",
       "      <th>L_TeamID</th>\n",
       "      <th>L_Score</th>\n",
       "      <th>W_Seed</th>\n",
       "      <th>L_Seed</th>\n",
       "      <th>W_WinRatio</th>\n",
       "      <th>W_AvgScoreGap</th>\n",
       "      <th>W_PointsRatio</th>\n",
       "      <th>L_WinRatio</th>\n",
       "      <th>L_AvgScoreGap</th>\n",
       "      <th>L_PointsRatio</th>\n",
       "    </tr>\n",
       "  </thead>\n",
       "  <tbody>\n",
       "    <tr>\n",
       "      <th>0</th>\n",
       "      <td>2015</td>\n",
       "      <td>134</td>\n",
       "      <td>1214</td>\n",
       "      <td>74</td>\n",
       "      <td>1264</td>\n",
       "      <td>64</td>\n",
       "      <td>16</td>\n",
       "      <td>16</td>\n",
       "      <td>0.48</td>\n",
       "      <td>-0.85</td>\n",
       "      <td>0.53</td>\n",
       "      <td>0.59</td>\n",
       "      <td>2.38</td>\n",
       "      <td>0.63</td>\n",
       "    </tr>\n",
       "    <tr>\n",
       "      <th>1</th>\n",
       "      <td>2015</td>\n",
       "      <td>134</td>\n",
       "      <td>1279</td>\n",
       "      <td>94</td>\n",
       "      <td>1140</td>\n",
       "      <td>90</td>\n",
       "      <td>11</td>\n",
       "      <td>11</td>\n",
       "      <td>0.62</td>\n",
       "      <td>5.12</td>\n",
       "      <td>0.64</td>\n",
       "      <td>0.72</td>\n",
       "      <td>8.91</td>\n",
       "      <td>0.74</td>\n",
       "    </tr>\n",
       "    <tr>\n",
       "      <th>2</th>\n",
       "      <td>2015</td>\n",
       "      <td>135</td>\n",
       "      <td>1173</td>\n",
       "      <td>56</td>\n",
       "      <td>1129</td>\n",
       "      <td>55</td>\n",
       "      <td>11</td>\n",
       "      <td>11</td>\n",
       "      <td>0.76</td>\n",
       "      <td>7.30</td>\n",
       "      <td>0.78</td>\n",
       "      <td>0.74</td>\n",
       "      <td>8.94</td>\n",
       "      <td>0.79</td>\n",
       "    </tr>\n",
       "    <tr>\n",
       "      <th>3</th>\n",
       "      <td>2015</td>\n",
       "      <td>135</td>\n",
       "      <td>1352</td>\n",
       "      <td>81</td>\n",
       "      <td>1316</td>\n",
       "      <td>77</td>\n",
       "      <td>16</td>\n",
       "      <td>16</td>\n",
       "      <td>0.58</td>\n",
       "      <td>1.27</td>\n",
       "      <td>0.62</td>\n",
       "      <td>0.65</td>\n",
       "      <td>5.42</td>\n",
       "      <td>0.68</td>\n",
       "    </tr>\n",
       "    <tr>\n",
       "      <th>4</th>\n",
       "      <td>2015</td>\n",
       "      <td>136</td>\n",
       "      <td>1112</td>\n",
       "      <td>93</td>\n",
       "      <td>1411</td>\n",
       "      <td>72</td>\n",
       "      <td>2</td>\n",
       "      <td>15</td>\n",
       "      <td>0.91</td>\n",
       "      <td>17.82</td>\n",
       "      <td>0.92</td>\n",
       "      <td>0.65</td>\n",
       "      <td>0.74</td>\n",
       "      <td>0.70</td>\n",
       "    </tr>\n",
       "  </tbody>\n",
       "</table>\n",
       "</div>"
      ],
      "text/plain": [
       "   Season  DayNum  W_TeamID  W_Score  L_TeamID  L_Score  W_Seed  L_Seed  \\\n",
       "0    2015     134      1214       74      1264       64      16      16   \n",
       "1    2015     134      1279       94      1140       90      11      11   \n",
       "2    2015     135      1173       56      1129       55      11      11   \n",
       "3    2015     135      1352       81      1316       77      16      16   \n",
       "4    2015     136      1112       93      1411       72       2      15   \n",
       "\n",
       "   W_WinRatio  W_AvgScoreGap  W_PointsRatio  L_WinRatio  L_AvgScoreGap  \\\n",
       "0        0.48          -0.85           0.53        0.59           2.38   \n",
       "1        0.62           5.12           0.64        0.72           8.91   \n",
       "2        0.76           7.30           0.78        0.74           8.94   \n",
       "3        0.58           1.27           0.62        0.65           5.42   \n",
       "4        0.91          17.82           0.92        0.65           0.74   \n",
       "\n",
       "   L_PointsRatio  \n",
       "0           0.63  \n",
       "1           0.74  \n",
       "2           0.79  \n",
       "3           0.68  \n",
       "4           0.70  "
      ]
     },
     "execution_count": 44,
     "metadata": {},
     "output_type": "execute_result"
    }
   ],
   "source": [
    "%%time\n",
    "tournament_data.head()"
   ]
  },
  {
   "cell_type": "code",
   "execution_count": 45,
   "id": "7f7d51e6",
   "metadata": {},
   "outputs": [],
   "source": [
    "def replace_win_loser(df):\n",
    "    team_a = df.copy()\n",
    "    team_b = df.copy()\n",
    "    \n",
    "    team_a_dict, team_b_dict = {}, {}\n",
    "    \n",
    "    for col in team_a.columns:\n",
    "        if col.find('W_') == 0:\n",
    "            new_col_name = str(col).replace('W_', 'A_')\n",
    "            team_a_dict[col] = new_col_name\n",
    "        if col.find('L_') == 0:\n",
    "            new_col_name = col.replace('L_', 'B_')    \n",
    "            team_a_dict[col] = new_col_name\n",
    "            \n",
    "    for col in team_b.columns:\n",
    "        if col.find('W_') == 0:\n",
    "            new_col_name = str(col).replace('W_', 'B_')\n",
    "            team_b_dict[col] = new_col_name\n",
    "        if col.find('L_') == 0:\n",
    "            new_col_name = col.replace('L_', 'A_')\n",
    "            team_b_dict[col] = new_col_name\n",
    "\n",
    "    team_a = team_a.rename(columns = team_a_dict)\n",
    "    team_b = team_b.rename(columns = team_b_dict)\n",
    "    \n",
    "    merged_df = pd.concat([team_a, team_b], axis = 0, sort = False)\n",
    "    return merged_df"
   ]
  },
  {
   "cell_type": "code",
   "execution_count": 46,
   "id": "bdbc1135",
   "metadata": {},
   "outputs": [
    {
     "name": "stdout",
     "output_type": "stream",
     "text": [
      "CPU times: user 3.24 ms, sys: 1.06 ms, total: 4.31 ms\n",
      "Wall time: 3.44 ms\n"
     ]
    }
   ],
   "source": [
    "%%time\n",
    "tournament_data = replace_win_loser(tournament_data)"
   ]
  },
  {
   "cell_type": "code",
   "execution_count": 47,
   "id": "50b0d083",
   "metadata": {},
   "outputs": [
    {
     "name": "stdout",
     "output_type": "stream",
     "text": [
      "CPU times: user 2.78 ms, sys: 926 µs, total: 3.7 ms\n",
      "Wall time: 2.89 ms\n"
     ]
    }
   ],
   "source": [
    "%%time\n",
    "def calculate_differences(df):\n",
    "    \"\"\"\n",
    "    \n",
    "    \"\"\"\n",
    "    df['SeedDiff'] = df['A_Seed'] - df['B_Seed']\n",
    "    df['WinRatioDiff'] = df['A_WinRatio'] - df['B_WinRatio']\n",
    "    df['GapAvgDiff'] = df['A_AvgScoreGap'] - df['B_AvgScoreGap']    \n",
    "    df['PointsRatioDiff'] = df['A_PointsRatio'] - df['A_PointsRatio']\n",
    "    return df\n",
    "\n",
    "tournament_data = calculate_differences(tournament_data)"
   ]
  },
  {
   "cell_type": "markdown",
   "id": "26711ece",
   "metadata": {},
   "source": [
    "### Creating the Target Variable"
   ]
  },
  {
   "cell_type": "code",
   "execution_count": 48,
   "id": "e418c388",
   "metadata": {},
   "outputs": [
    {
     "name": "stdout",
     "output_type": "stream",
     "text": [
      "CPU times: user 2.77 ms, sys: 861 µs, total: 3.63 ms\n",
      "Wall time: 2.92 ms\n"
     ]
    }
   ],
   "source": [
    "%%time\n",
    "tournament_data['ScoreDiff'] = tournament_data['A_Score'] - tournament_data['B_Score']\n",
    "tournament_data['A_Win'] = (tournament_data['ScoreDiff'] > 0).astype(int)\n",
    "tournament_data = tournament_data.drop(columns=['A_Score', 'B_Score'])"
   ]
  },
  {
   "cell_type": "code",
   "execution_count": 49,
   "id": "2461de14",
   "metadata": {},
   "outputs": [
    {
     "name": "stdout",
     "output_type": "stream",
     "text": [
      "CPU times: user 116 µs, sys: 0 ns, total: 116 µs\n",
      "Wall time: 120 µs\n"
     ]
    },
    {
     "data": {
      "text/html": [
       "<div>\n",
       "<style scoped>\n",
       "    .dataframe tbody tr th:only-of-type {\n",
       "        vertical-align: middle;\n",
       "    }\n",
       "\n",
       "    .dataframe tbody tr th {\n",
       "        vertical-align: top;\n",
       "    }\n",
       "\n",
       "    .dataframe thead th {\n",
       "        text-align: right;\n",
       "    }\n",
       "</style>\n",
       "<table border=\"1\" class=\"dataframe\">\n",
       "  <thead>\n",
       "    <tr style=\"text-align: right;\">\n",
       "      <th></th>\n",
       "      <th>Season</th>\n",
       "      <th>DayNum</th>\n",
       "      <th>A_TeamID</th>\n",
       "      <th>B_TeamID</th>\n",
       "      <th>A_Seed</th>\n",
       "      <th>B_Seed</th>\n",
       "      <th>A_WinRatio</th>\n",
       "      <th>...</th>\n",
       "      <th>B_PointsRatio</th>\n",
       "      <th>SeedDiff</th>\n",
       "      <th>WinRatioDiff</th>\n",
       "      <th>GapAvgDiff</th>\n",
       "      <th>PointsRatioDiff</th>\n",
       "      <th>ScoreDiff</th>\n",
       "      <th>A_Win</th>\n",
       "    </tr>\n",
       "  </thead>\n",
       "  <tbody>\n",
       "    <tr>\n",
       "      <th>0</th>\n",
       "      <td>2015</td>\n",
       "      <td>134</td>\n",
       "      <td>1214</td>\n",
       "      <td>1264</td>\n",
       "      <td>16</td>\n",
       "      <td>16</td>\n",
       "      <td>0.48</td>\n",
       "      <td>...</td>\n",
       "      <td>0.63</td>\n",
       "      <td>0</td>\n",
       "      <td>-0.11</td>\n",
       "      <td>-3.22</td>\n",
       "      <td>0.00</td>\n",
       "      <td>10</td>\n",
       "      <td>1</td>\n",
       "    </tr>\n",
       "    <tr>\n",
       "      <th>1</th>\n",
       "      <td>2015</td>\n",
       "      <td>134</td>\n",
       "      <td>1279</td>\n",
       "      <td>1140</td>\n",
       "      <td>11</td>\n",
       "      <td>11</td>\n",
       "      <td>0.62</td>\n",
       "      <td>...</td>\n",
       "      <td>0.74</td>\n",
       "      <td>0</td>\n",
       "      <td>-0.09</td>\n",
       "      <td>-3.78</td>\n",
       "      <td>0.00</td>\n",
       "      <td>4</td>\n",
       "      <td>1</td>\n",
       "    </tr>\n",
       "    <tr>\n",
       "      <th>2</th>\n",
       "      <td>2015</td>\n",
       "      <td>135</td>\n",
       "      <td>1173</td>\n",
       "      <td>1129</td>\n",
       "      <td>11</td>\n",
       "      <td>11</td>\n",
       "      <td>0.76</td>\n",
       "      <td>...</td>\n",
       "      <td>0.79</td>\n",
       "      <td>0</td>\n",
       "      <td>0.02</td>\n",
       "      <td>-1.63</td>\n",
       "      <td>0.00</td>\n",
       "      <td>1</td>\n",
       "      <td>1</td>\n",
       "    </tr>\n",
       "    <tr>\n",
       "      <th>3</th>\n",
       "      <td>2015</td>\n",
       "      <td>135</td>\n",
       "      <td>1352</td>\n",
       "      <td>1316</td>\n",
       "      <td>16</td>\n",
       "      <td>16</td>\n",
       "      <td>0.58</td>\n",
       "      <td>...</td>\n",
       "      <td>0.68</td>\n",
       "      <td>0</td>\n",
       "      <td>-0.07</td>\n",
       "      <td>-4.15</td>\n",
       "      <td>0.00</td>\n",
       "      <td>4</td>\n",
       "      <td>1</td>\n",
       "    </tr>\n",
       "    <tr>\n",
       "      <th>4</th>\n",
       "      <td>2015</td>\n",
       "      <td>136</td>\n",
       "      <td>1112</td>\n",
       "      <td>1411</td>\n",
       "      <td>2</td>\n",
       "      <td>15</td>\n",
       "      <td>0.91</td>\n",
       "      <td>...</td>\n",
       "      <td>0.70</td>\n",
       "      <td>-13</td>\n",
       "      <td>0.26</td>\n",
       "      <td>17.09</td>\n",
       "      <td>0.00</td>\n",
       "      <td>21</td>\n",
       "      <td>1</td>\n",
       "    </tr>\n",
       "  </tbody>\n",
       "</table>\n",
       "<p>5 rows × 18 columns</p>\n",
       "</div>"
      ],
      "text/plain": [
       "   Season  DayNum  A_TeamID  B_TeamID  A_Seed  B_Seed  A_WinRatio  ...  \\\n",
       "0    2015     134      1214      1264      16      16        0.48  ...   \n",
       "1    2015     134      1279      1140      11      11        0.62  ...   \n",
       "2    2015     135      1173      1129      11      11        0.76  ...   \n",
       "3    2015     135      1352      1316      16      16        0.58  ...   \n",
       "4    2015     136      1112      1411       2      15        0.91  ...   \n",
       "\n",
       "   B_PointsRatio  SeedDiff  WinRatioDiff  GapAvgDiff  PointsRatioDiff  \\\n",
       "0           0.63         0         -0.11       -3.22             0.00   \n",
       "1           0.74         0         -0.09       -3.78             0.00   \n",
       "2           0.79         0          0.02       -1.63             0.00   \n",
       "3           0.68         0         -0.07       -4.15             0.00   \n",
       "4           0.70       -13          0.26       17.09             0.00   \n",
       "\n",
       "   ScoreDiff  A_Win  \n",
       "0         10      1  \n",
       "1          4      1  \n",
       "2          1      1  \n",
       "3          4      1  \n",
       "4         21      1  \n",
       "\n",
       "[5 rows x 18 columns]"
      ]
     },
     "execution_count": 49,
     "metadata": {},
     "output_type": "execute_result"
    }
   ],
   "source": [
    "%%time\n",
    "tournament_data.head()"
   ]
  },
  {
   "cell_type": "code",
   "execution_count": 50,
   "id": "23f8c171",
   "metadata": {},
   "outputs": [
    {
     "name": "stdout",
     "output_type": "stream",
     "text": [
      "<class 'pandas.core.frame.DataFrame'>\n",
      "Int64Index: 802 entries, 0 to 400\n",
      "Data columns (total 18 columns):\n",
      " #   Column           Non-Null Count  Dtype  \n",
      "---  ------           --------------  -----  \n",
      " 0   Season           802 non-null    int64  \n",
      " 1   DayNum           802 non-null    int64  \n",
      " 2   A_TeamID         802 non-null    int64  \n",
      " 3   B_TeamID         802 non-null    int64  \n",
      " 4   A_Seed           802 non-null    int64  \n",
      " 5   B_Seed           802 non-null    int64  \n",
      " 6   A_WinRatio       802 non-null    float64\n",
      " 7   A_AvgScoreGap    802 non-null    float64\n",
      " 8   A_PointsRatio    802 non-null    float64\n",
      " 9   B_WinRatio       802 non-null    float64\n",
      " 10  B_AvgScoreGap    802 non-null    float64\n",
      " 11  B_PointsRatio    802 non-null    float64\n",
      " 12  SeedDiff         802 non-null    int64  \n",
      " 13  WinRatioDiff     802 non-null    float64\n",
      " 14  GapAvgDiff       802 non-null    float64\n",
      " 15  PointsRatioDiff  802 non-null    float64\n",
      " 16  ScoreDiff        802 non-null    int64  \n",
      " 17  A_Win            802 non-null    int64  \n",
      "dtypes: float64(9), int64(9)\n",
      "memory usage: 119.0 KB\n"
     ]
    }
   ],
   "source": [
    "tournament_data.info()"
   ]
  },
  {
   "cell_type": "markdown",
   "id": "c65f78a0",
   "metadata": {},
   "source": [
    "### Creating the Test Dataset"
   ]
  },
  {
   "cell_type": "code",
   "execution_count": 51,
   "id": "65862c23",
   "metadata": {},
   "outputs": [
    {
     "name": "stdout",
     "output_type": "stream",
     "text": [
      "CPU times: user 9.08 ms, sys: 2.13 ms, total: 11.2 ms\n",
      "Wall time: 10.7 ms\n"
     ]
    }
   ],
   "source": [
    "%%time\n",
    "sub_stage_one = pd.read_csv('MDataFiles_Stage1/MSampleSubmissionStage1.csv')\n",
    "tst_data = sub_stage_one.copy()\n"
   ]
  },
  {
   "cell_type": "code",
   "execution_count": 52,
   "id": "23478825",
   "metadata": {},
   "outputs": [
    {
     "data": {
      "text/plain": [
       "(11390, 2)"
      ]
     },
     "execution_count": 52,
     "metadata": {},
     "output_type": "execute_result"
    }
   ],
   "source": [
    "tst_data.shape"
   ]
  },
  {
   "cell_type": "code",
   "execution_count": 53,
   "id": "4ec1b20d",
   "metadata": {},
   "outputs": [
    {
     "name": "stdout",
     "output_type": "stream",
     "text": [
      "CPU times: user 25.2 ms, sys: 2.43 ms, total: 27.6 ms\n",
      "Wall time: 26.7 ms\n"
     ]
    }
   ],
   "source": [
    "%%time\n",
    "def separate_id(df):\n",
    "    \"\"\"\n",
    "    \n",
    "    \"\"\"\n",
    "    df['Season']  = df['ID'].apply(lambda x: int(x.split('_')[0]))\n",
    "    df['TeamIdA'] = df['ID'].apply(lambda x: int(x.split('_')[1]))\n",
    "    df['TeamIdB'] = df['ID'].apply(lambda x: int(x.split('_')[2]))\n",
    "    return df\n",
    "\n",
    "tst_data = separate_id(tst_data)"
   ]
  },
  {
   "cell_type": "code",
   "execution_count": 54,
   "id": "51c58111",
   "metadata": {},
   "outputs": [
    {
     "name": "stdout",
     "output_type": "stream",
     "text": [
      "CPU times: user 12.6 ms, sys: 2.18 ms, total: 14.7 ms\n",
      "Wall time: 13.7 ms\n"
     ]
    }
   ],
   "source": [
    "%%time\n",
    "tst_data = merge_seed(tst_data, seeds, left_on = ['Season', 'TeamIdA'], field_name = 'A_Seed')\n",
    "tst_data = merge_seed(tst_data, seeds, left_on = ['Season', 'TeamIdB'], field_name = 'B_Seed')"
   ]
  },
  {
   "cell_type": "code",
   "execution_count": 55,
   "id": "70d5a689",
   "metadata": {},
   "outputs": [
    {
     "name": "stdout",
     "output_type": "stream",
     "text": [
      "CPU times: user 33.2 ms, sys: 2.9 ms, total: 36.1 ms\n",
      "Wall time: 36.5 ms\n"
     ]
    }
   ],
   "source": [
    "%%time\n",
    "tst_data['A_Seed'] = tst_data['A_Seed'].apply(seed_number)\n",
    "tst_data['B_Seed'] = tst_data['B_Seed'].apply(seed_number)"
   ]
  },
  {
   "cell_type": "code",
   "execution_count": 56,
   "id": "5a0d35bb",
   "metadata": {},
   "outputs": [
    {
     "name": "stdout",
     "output_type": "stream",
     "text": [
      "CPU times: user 1.71 ms, sys: 1.28 ms, total: 3 ms\n",
      "Wall time: 1.84 ms\n"
     ]
    }
   ],
   "source": [
    "%%time\n",
    "tst_data = tst_data.rename(columns = {'TeamIdA': 'A_TeamID', 'TeamIdB': 'B_TeamID'})"
   ]
  },
  {
   "cell_type": "code",
   "execution_count": 57,
   "id": "7ec6f6ea",
   "metadata": {},
   "outputs": [
    {
     "data": {
      "text/html": [
       "<div>\n",
       "<style scoped>\n",
       "    .dataframe tbody tr th:only-of-type {\n",
       "        vertical-align: middle;\n",
       "    }\n",
       "\n",
       "    .dataframe tbody tr th {\n",
       "        vertical-align: top;\n",
       "    }\n",
       "\n",
       "    .dataframe thead th {\n",
       "        text-align: right;\n",
       "    }\n",
       "</style>\n",
       "<table border=\"1\" class=\"dataframe\">\n",
       "  <thead>\n",
       "    <tr style=\"text-align: right;\">\n",
       "      <th></th>\n",
       "      <th>ID</th>\n",
       "      <th>Pred</th>\n",
       "      <th>Season</th>\n",
       "      <th>A_TeamID</th>\n",
       "      <th>B_TeamID</th>\n",
       "      <th>A_Seed</th>\n",
       "      <th>B_Seed</th>\n",
       "    </tr>\n",
       "  </thead>\n",
       "  <tbody>\n",
       "    <tr>\n",
       "      <th>0</th>\n",
       "      <td>2016_1112_1114</td>\n",
       "      <td>0.50</td>\n",
       "      <td>2016</td>\n",
       "      <td>1112</td>\n",
       "      <td>1114</td>\n",
       "      <td>6</td>\n",
       "      <td>12</td>\n",
       "    </tr>\n",
       "    <tr>\n",
       "      <th>1</th>\n",
       "      <td>2016_1112_1122</td>\n",
       "      <td>0.50</td>\n",
       "      <td>2016</td>\n",
       "      <td>1112</td>\n",
       "      <td>1122</td>\n",
       "      <td>6</td>\n",
       "      <td>16</td>\n",
       "    </tr>\n",
       "    <tr>\n",
       "      <th>2</th>\n",
       "      <td>2016_1112_1124</td>\n",
       "      <td>0.50</td>\n",
       "      <td>2016</td>\n",
       "      <td>1112</td>\n",
       "      <td>1124</td>\n",
       "      <td>6</td>\n",
       "      <td>5</td>\n",
       "    </tr>\n",
       "    <tr>\n",
       "      <th>3</th>\n",
       "      <td>2016_1112_1138</td>\n",
       "      <td>0.50</td>\n",
       "      <td>2016</td>\n",
       "      <td>1112</td>\n",
       "      <td>1138</td>\n",
       "      <td>6</td>\n",
       "      <td>14</td>\n",
       "    </tr>\n",
       "    <tr>\n",
       "      <th>4</th>\n",
       "      <td>2016_1112_1139</td>\n",
       "      <td>0.50</td>\n",
       "      <td>2016</td>\n",
       "      <td>1112</td>\n",
       "      <td>1139</td>\n",
       "      <td>6</td>\n",
       "      <td>9</td>\n",
       "    </tr>\n",
       "    <tr>\n",
       "      <th>...</th>\n",
       "      <td>...</td>\n",
       "      <td>...</td>\n",
       "      <td>...</td>\n",
       "      <td>...</td>\n",
       "      <td>...</td>\n",
       "      <td>...</td>\n",
       "      <td>...</td>\n",
       "    </tr>\n",
       "    <tr>\n",
       "      <th>11385</th>\n",
       "      <td>2021_1452_1457</td>\n",
       "      <td>0.50</td>\n",
       "      <td>2021</td>\n",
       "      <td>1452</td>\n",
       "      <td>1457</td>\n",
       "      <td>3</td>\n",
       "      <td>12</td>\n",
       "    </tr>\n",
       "    <tr>\n",
       "      <th>11386</th>\n",
       "      <td>2021_1452_1458</td>\n",
       "      <td>0.50</td>\n",
       "      <td>2021</td>\n",
       "      <td>1452</td>\n",
       "      <td>1458</td>\n",
       "      <td>3</td>\n",
       "      <td>9</td>\n",
       "    </tr>\n",
       "    <tr>\n",
       "      <th>11387</th>\n",
       "      <td>2021_1455_1457</td>\n",
       "      <td>0.50</td>\n",
       "      <td>2021</td>\n",
       "      <td>1455</td>\n",
       "      <td>1457</td>\n",
       "      <td>11</td>\n",
       "      <td>12</td>\n",
       "    </tr>\n",
       "    <tr>\n",
       "      <th>11388</th>\n",
       "      <td>2021_1455_1458</td>\n",
       "      <td>0.50</td>\n",
       "      <td>2021</td>\n",
       "      <td>1455</td>\n",
       "      <td>1458</td>\n",
       "      <td>11</td>\n",
       "      <td>9</td>\n",
       "    </tr>\n",
       "    <tr>\n",
       "      <th>11389</th>\n",
       "      <td>2021_1457_1458</td>\n",
       "      <td>0.50</td>\n",
       "      <td>2021</td>\n",
       "      <td>1457</td>\n",
       "      <td>1458</td>\n",
       "      <td>12</td>\n",
       "      <td>9</td>\n",
       "    </tr>\n",
       "  </tbody>\n",
       "</table>\n",
       "<p>11390 rows × 7 columns</p>\n",
       "</div>"
      ],
      "text/plain": [
       "                   ID  Pred  Season  A_TeamID  B_TeamID  A_Seed  B_Seed\n",
       "0      2016_1112_1114  0.50    2016      1112      1114       6      12\n",
       "1      2016_1112_1122  0.50    2016      1112      1122       6      16\n",
       "2      2016_1112_1124  0.50    2016      1112      1124       6       5\n",
       "3      2016_1112_1138  0.50    2016      1112      1138       6      14\n",
       "4      2016_1112_1139  0.50    2016      1112      1139       6       9\n",
       "...               ...   ...     ...       ...       ...     ...     ...\n",
       "11385  2021_1452_1457  0.50    2021      1452      1457       3      12\n",
       "11386  2021_1452_1458  0.50    2021      1452      1458       3       9\n",
       "11387  2021_1455_1457  0.50    2021      1455      1457      11      12\n",
       "11388  2021_1455_1458  0.50    2021      1455      1458      11       9\n",
       "11389  2021_1457_1458  0.50    2021      1457      1458      12       9\n",
       "\n",
       "[11390 rows x 7 columns]"
      ]
     },
     "execution_count": 57,
     "metadata": {},
     "output_type": "execute_result"
    }
   ],
   "source": [
    "tst_data"
   ]
  },
  {
   "cell_type": "code",
   "execution_count": 58,
   "id": "b9f447e8",
   "metadata": {},
   "outputs": [
    {
     "data": {
      "text/html": [
       "<div>\n",
       "<style scoped>\n",
       "    .dataframe tbody tr th:only-of-type {\n",
       "        vertical-align: middle;\n",
       "    }\n",
       "\n",
       "    .dataframe tbody tr th {\n",
       "        vertical-align: top;\n",
       "    }\n",
       "\n",
       "    .dataframe thead th {\n",
       "        text-align: right;\n",
       "    }\n",
       "</style>\n",
       "<table border=\"1\" class=\"dataframe\">\n",
       "  <thead>\n",
       "    <tr style=\"text-align: right;\">\n",
       "      <th></th>\n",
       "      <th>Season</th>\n",
       "      <th>TeamID</th>\n",
       "      <th>WinRatio</th>\n",
       "      <th>AvgScoreGap</th>\n",
       "      <th>PointsRatio</th>\n",
       "    </tr>\n",
       "  </thead>\n",
       "  <tbody>\n",
       "    <tr>\n",
       "      <th>0</th>\n",
       "      <td>1985</td>\n",
       "      <td>1102</td>\n",
       "      <td>0.21</td>\n",
       "      <td>-5.79</td>\n",
       "      <td>0.23</td>\n",
       "    </tr>\n",
       "    <tr>\n",
       "      <th>1</th>\n",
       "      <td>1985</td>\n",
       "      <td>1103</td>\n",
       "      <td>0.39</td>\n",
       "      <td>-3.04</td>\n",
       "      <td>0.45</td>\n",
       "    </tr>\n",
       "    <tr>\n",
       "      <th>2</th>\n",
       "      <td>1985</td>\n",
       "      <td>1104</td>\n",
       "      <td>0.70</td>\n",
       "      <td>7.80</td>\n",
       "      <td>0.74</td>\n",
       "    </tr>\n",
       "    <tr>\n",
       "      <th>3</th>\n",
       "      <td>1985</td>\n",
       "      <td>1106</td>\n",
       "      <td>0.42</td>\n",
       "      <td>-3.79</td>\n",
       "      <td>0.44</td>\n",
       "    </tr>\n",
       "    <tr>\n",
       "      <th>4</th>\n",
       "      <td>1985</td>\n",
       "      <td>1108</td>\n",
       "      <td>0.76</td>\n",
       "      <td>7.96</td>\n",
       "      <td>0.79</td>\n",
       "    </tr>\n",
       "    <tr>\n",
       "      <th>...</th>\n",
       "      <td>...</td>\n",
       "      <td>...</td>\n",
       "      <td>...</td>\n",
       "      <td>...</td>\n",
       "      <td>...</td>\n",
       "    </tr>\n",
       "    <tr>\n",
       "      <th>12294</th>\n",
       "      <td>2022</td>\n",
       "      <td>1468</td>\n",
       "      <td>0.45</td>\n",
       "      <td>-4.30</td>\n",
       "      <td>0.50</td>\n",
       "    </tr>\n",
       "    <tr>\n",
       "      <th>12295</th>\n",
       "      <td>2022</td>\n",
       "      <td>1469</td>\n",
       "      <td>0.37</td>\n",
       "      <td>-8.00</td>\n",
       "      <td>0.42</td>\n",
       "    </tr>\n",
       "    <tr>\n",
       "      <th>12296</th>\n",
       "      <td>2022</td>\n",
       "      <td>1470</td>\n",
       "      <td>0.38</td>\n",
       "      <td>-3.05</td>\n",
       "      <td>0.42</td>\n",
       "    </tr>\n",
       "    <tr>\n",
       "      <th>12297</th>\n",
       "      <td>2022</td>\n",
       "      <td>1471</td>\n",
       "      <td>0.40</td>\n",
       "      <td>-4.00</td>\n",
       "      <td>0.47</td>\n",
       "    </tr>\n",
       "    <tr>\n",
       "      <th>12298</th>\n",
       "      <td>2022</td>\n",
       "      <td>1472</td>\n",
       "      <td>0.26</td>\n",
       "      <td>-5.37</td>\n",
       "      <td>0.31</td>\n",
       "    </tr>\n",
       "  </tbody>\n",
       "</table>\n",
       "<p>12299 rows × 5 columns</p>\n",
       "</div>"
      ],
      "text/plain": [
       "       Season  TeamID  WinRatio  AvgScoreGap  PointsRatio\n",
       "0        1985    1102      0.21        -5.79         0.23\n",
       "1        1985    1103      0.39        -3.04         0.45\n",
       "2        1985    1104      0.70         7.80         0.74\n",
       "3        1985    1106      0.42        -3.79         0.44\n",
       "4        1985    1108      0.76         7.96         0.79\n",
       "...       ...     ...       ...          ...          ...\n",
       "12294    2022    1468      0.45        -4.30         0.50\n",
       "12295    2022    1469      0.37        -8.00         0.42\n",
       "12296    2022    1470      0.38        -3.05         0.42\n",
       "12297    2022    1471      0.40        -4.00         0.47\n",
       "12298    2022    1472      0.26        -5.37         0.31\n",
       "\n",
       "[12299 rows x 5 columns]"
      ]
     },
     "execution_count": 58,
     "metadata": {},
     "output_type": "execute_result"
    }
   ],
   "source": [
    "team_agg_features"
   ]
  },
  {
   "cell_type": "code",
   "execution_count": 59,
   "id": "9ba39bd4",
   "metadata": {},
   "outputs": [
    {
     "name": "stdout",
     "output_type": "stream",
     "text": [
      "CPU times: user 14.9 ms, sys: 2.55 ms, total: 17.4 ms\n",
      "Wall time: 15.8 ms\n"
     ]
    }
   ],
   "source": [
    "%%time\n",
    "def merge_agg_features(df, agg_features):\n",
    "    for result in ['A', 'B']:\n",
    "        df = pd.merge(df, agg_features, how = 'left', left_on = ['Season', result +'_'+ 'TeamID'], right_on = ['Season', 'TeamID'])\n",
    "        avoid = ['Season', 'TeamID']\n",
    "        new_names = {col: result +'_'+ col for col in agg_features.columns if col not in avoid}\n",
    "        df = df.rename(columns = new_names)        \n",
    "        df = df.drop(columns = 'TeamID', axis = 1)\n",
    "    return df\n",
    "\n",
    "tst_data = merge_agg_features(tst_data, team_agg_features)"
   ]
  },
  {
   "cell_type": "code",
   "execution_count": 60,
   "id": "682fa78c",
   "metadata": {},
   "outputs": [
    {
     "name": "stdout",
     "output_type": "stream",
     "text": [
      "CPU times: user 3.03 ms, sys: 1.11 ms, total: 4.14 ms\n",
      "Wall time: 3.23 ms\n"
     ]
    }
   ],
   "source": [
    "%%time\n",
    "tst_data = calculate_differences(tst_data)"
   ]
  },
  {
   "cell_type": "code",
   "execution_count": 61,
   "id": "710df9a4",
   "metadata": {},
   "outputs": [
    {
     "name": "stdout",
     "output_type": "stream",
     "text": [
      "CPU times: user 2 µs, sys: 1 µs, total: 3 µs\n",
      "Wall time: 6.2 µs\n"
     ]
    },
    {
     "data": {
      "text/html": [
       "<div>\n",
       "<style scoped>\n",
       "    .dataframe tbody tr th:only-of-type {\n",
       "        vertical-align: middle;\n",
       "    }\n",
       "\n",
       "    .dataframe tbody tr th {\n",
       "        vertical-align: top;\n",
       "    }\n",
       "\n",
       "    .dataframe thead th {\n",
       "        text-align: right;\n",
       "    }\n",
       "</style>\n",
       "<table border=\"1\" class=\"dataframe\">\n",
       "  <thead>\n",
       "    <tr style=\"text-align: right;\">\n",
       "      <th></th>\n",
       "      <th>ID</th>\n",
       "      <th>Pred</th>\n",
       "      <th>Season</th>\n",
       "      <th>A_TeamID</th>\n",
       "      <th>B_TeamID</th>\n",
       "      <th>A_Seed</th>\n",
       "      <th>B_Seed</th>\n",
       "      <th>...</th>\n",
       "      <th>B_WinRatio</th>\n",
       "      <th>B_AvgScoreGap</th>\n",
       "      <th>B_PointsRatio</th>\n",
       "      <th>SeedDiff</th>\n",
       "      <th>WinRatioDiff</th>\n",
       "      <th>GapAvgDiff</th>\n",
       "      <th>PointsRatioDiff</th>\n",
       "    </tr>\n",
       "  </thead>\n",
       "  <tbody>\n",
       "    <tr>\n",
       "      <th>0</th>\n",
       "      <td>2016_1112_1114</td>\n",
       "      <td>0.50</td>\n",
       "      <td>2016</td>\n",
       "      <td>1112</td>\n",
       "      <td>1114</td>\n",
       "      <td>6</td>\n",
       "      <td>12</td>\n",
       "      <td>...</td>\n",
       "      <td>0.87</td>\n",
       "      <td>9.94</td>\n",
       "      <td>0.88</td>\n",
       "      <td>-6</td>\n",
       "      <td>-0.11</td>\n",
       "      <td>2.28</td>\n",
       "      <td>0.00</td>\n",
       "    </tr>\n",
       "    <tr>\n",
       "      <th>1</th>\n",
       "      <td>2016_1112_1122</td>\n",
       "      <td>0.50</td>\n",
       "      <td>2016</td>\n",
       "      <td>1112</td>\n",
       "      <td>1122</td>\n",
       "      <td>6</td>\n",
       "      <td>16</td>\n",
       "      <td>...</td>\n",
       "      <td>0.48</td>\n",
       "      <td>-2.36</td>\n",
       "      <td>0.54</td>\n",
       "      <td>-10</td>\n",
       "      <td>0.27</td>\n",
       "      <td>14.58</td>\n",
       "      <td>0.00</td>\n",
       "    </tr>\n",
       "    <tr>\n",
       "      <th>2</th>\n",
       "      <td>2016_1112_1124</td>\n",
       "      <td>0.50</td>\n",
       "      <td>2016</td>\n",
       "      <td>1112</td>\n",
       "      <td>1124</td>\n",
       "      <td>6</td>\n",
       "      <td>5</td>\n",
       "      <td>...</td>\n",
       "      <td>0.66</td>\n",
       "      <td>6.69</td>\n",
       "      <td>0.70</td>\n",
       "      <td>1</td>\n",
       "      <td>0.10</td>\n",
       "      <td>5.52</td>\n",
       "      <td>0.00</td>\n",
       "    </tr>\n",
       "    <tr>\n",
       "      <th>3</th>\n",
       "      <td>2016_1112_1138</td>\n",
       "      <td>0.50</td>\n",
       "      <td>2016</td>\n",
       "      <td>1112</td>\n",
       "      <td>1138</td>\n",
       "      <td>6</td>\n",
       "      <td>14</td>\n",
       "      <td>...</td>\n",
       "      <td>0.58</td>\n",
       "      <td>0.67</td>\n",
       "      <td>0.62</td>\n",
       "      <td>-8</td>\n",
       "      <td>0.18</td>\n",
       "      <td>11.55</td>\n",
       "      <td>0.00</td>\n",
       "    </tr>\n",
       "    <tr>\n",
       "      <th>4</th>\n",
       "      <td>2016_1112_1139</td>\n",
       "      <td>0.50</td>\n",
       "      <td>2016</td>\n",
       "      <td>1112</td>\n",
       "      <td>1139</td>\n",
       "      <td>6</td>\n",
       "      <td>9</td>\n",
       "      <td>...</td>\n",
       "      <td>0.68</td>\n",
       "      <td>9.42</td>\n",
       "      <td>0.74</td>\n",
       "      <td>-3</td>\n",
       "      <td>0.08</td>\n",
       "      <td>2.79</td>\n",
       "      <td>0.00</td>\n",
       "    </tr>\n",
       "    <tr>\n",
       "      <th>...</th>\n",
       "      <td>...</td>\n",
       "      <td>...</td>\n",
       "      <td>...</td>\n",
       "      <td>...</td>\n",
       "      <td>...</td>\n",
       "      <td>...</td>\n",
       "      <td>...</td>\n",
       "      <td>...</td>\n",
       "      <td>...</td>\n",
       "      <td>...</td>\n",
       "      <td>...</td>\n",
       "      <td>...</td>\n",
       "      <td>...</td>\n",
       "      <td>...</td>\n",
       "      <td>...</td>\n",
       "    </tr>\n",
       "    <tr>\n",
       "      <th>11385</th>\n",
       "      <td>2021_1452_1457</td>\n",
       "      <td>0.50</td>\n",
       "      <td>2021</td>\n",
       "      <td>1452</td>\n",
       "      <td>1457</td>\n",
       "      <td>3</td>\n",
       "      <td>12</td>\n",
       "      <td>...</td>\n",
       "      <td>0.96</td>\n",
       "      <td>12.75</td>\n",
       "      <td>0.97</td>\n",
       "      <td>-9</td>\n",
       "      <td>-0.29</td>\n",
       "      <td>-7.56</td>\n",
       "      <td>0.00</td>\n",
       "    </tr>\n",
       "    <tr>\n",
       "      <th>11386</th>\n",
       "      <td>2021_1452_1458</td>\n",
       "      <td>0.50</td>\n",
       "      <td>2021</td>\n",
       "      <td>1452</td>\n",
       "      <td>1458</td>\n",
       "      <td>3</td>\n",
       "      <td>9</td>\n",
       "      <td>...</td>\n",
       "      <td>0.59</td>\n",
       "      <td>5.31</td>\n",
       "      <td>0.62</td>\n",
       "      <td>-6</td>\n",
       "      <td>0.08</td>\n",
       "      <td>-0.13</td>\n",
       "      <td>0.00</td>\n",
       "    </tr>\n",
       "    <tr>\n",
       "      <th>11387</th>\n",
       "      <td>2021_1455_1457</td>\n",
       "      <td>0.50</td>\n",
       "      <td>2021</td>\n",
       "      <td>1455</td>\n",
       "      <td>1457</td>\n",
       "      <td>11</td>\n",
       "      <td>12</td>\n",
       "      <td>...</td>\n",
       "      <td>0.96</td>\n",
       "      <td>12.75</td>\n",
       "      <td>0.97</td>\n",
       "      <td>-1</td>\n",
       "      <td>-0.22</td>\n",
       "      <td>-10.12</td>\n",
       "      <td>0.00</td>\n",
       "    </tr>\n",
       "    <tr>\n",
       "      <th>11388</th>\n",
       "      <td>2021_1455_1458</td>\n",
       "      <td>0.50</td>\n",
       "      <td>2021</td>\n",
       "      <td>1455</td>\n",
       "      <td>1458</td>\n",
       "      <td>11</td>\n",
       "      <td>9</td>\n",
       "      <td>...</td>\n",
       "      <td>0.59</td>\n",
       "      <td>5.31</td>\n",
       "      <td>0.62</td>\n",
       "      <td>2</td>\n",
       "      <td>0.15</td>\n",
       "      <td>-2.68</td>\n",
       "      <td>0.00</td>\n",
       "    </tr>\n",
       "    <tr>\n",
       "      <th>11389</th>\n",
       "      <td>2021_1457_1458</td>\n",
       "      <td>0.50</td>\n",
       "      <td>2021</td>\n",
       "      <td>1457</td>\n",
       "      <td>1458</td>\n",
       "      <td>12</td>\n",
       "      <td>9</td>\n",
       "      <td>...</td>\n",
       "      <td>0.59</td>\n",
       "      <td>5.31</td>\n",
       "      <td>0.62</td>\n",
       "      <td>3</td>\n",
       "      <td>0.37</td>\n",
       "      <td>7.44</td>\n",
       "      <td>0.00</td>\n",
       "    </tr>\n",
       "  </tbody>\n",
       "</table>\n",
       "<p>11390 rows × 17 columns</p>\n",
       "</div>"
      ],
      "text/plain": [
       "                   ID  Pred  Season  A_TeamID  B_TeamID  A_Seed  B_Seed  ...  \\\n",
       "0      2016_1112_1114  0.50    2016      1112      1114       6      12  ...   \n",
       "1      2016_1112_1122  0.50    2016      1112      1122       6      16  ...   \n",
       "2      2016_1112_1124  0.50    2016      1112      1124       6       5  ...   \n",
       "3      2016_1112_1138  0.50    2016      1112      1138       6      14  ...   \n",
       "4      2016_1112_1139  0.50    2016      1112      1139       6       9  ...   \n",
       "...               ...   ...     ...       ...       ...     ...     ...  ...   \n",
       "11385  2021_1452_1457  0.50    2021      1452      1457       3      12  ...   \n",
       "11386  2021_1452_1458  0.50    2021      1452      1458       3       9  ...   \n",
       "11387  2021_1455_1457  0.50    2021      1455      1457      11      12  ...   \n",
       "11388  2021_1455_1458  0.50    2021      1455      1458      11       9  ...   \n",
       "11389  2021_1457_1458  0.50    2021      1457      1458      12       9  ...   \n",
       "\n",
       "       B_WinRatio  B_AvgScoreGap  B_PointsRatio  SeedDiff  WinRatioDiff  \\\n",
       "0            0.87           9.94           0.88        -6         -0.11   \n",
       "1            0.48          -2.36           0.54       -10          0.27   \n",
       "2            0.66           6.69           0.70         1          0.10   \n",
       "3            0.58           0.67           0.62        -8          0.18   \n",
       "4            0.68           9.42           0.74        -3          0.08   \n",
       "...           ...            ...            ...       ...           ...   \n",
       "11385        0.96          12.75           0.97        -9         -0.29   \n",
       "11386        0.59           5.31           0.62        -6          0.08   \n",
       "11387        0.96          12.75           0.97        -1         -0.22   \n",
       "11388        0.59           5.31           0.62         2          0.15   \n",
       "11389        0.59           5.31           0.62         3          0.37   \n",
       "\n",
       "       GapAvgDiff  PointsRatioDiff  \n",
       "0            2.28             0.00  \n",
       "1           14.58             0.00  \n",
       "2            5.52             0.00  \n",
       "3           11.55             0.00  \n",
       "4            2.79             0.00  \n",
       "...           ...              ...  \n",
       "11385       -7.56             0.00  \n",
       "11386       -0.13             0.00  \n",
       "11387      -10.12             0.00  \n",
       "11388       -2.68             0.00  \n",
       "11389        7.44             0.00  \n",
       "\n",
       "[11390 rows x 17 columns]"
      ]
     },
     "execution_count": 61,
     "metadata": {},
     "output_type": "execute_result"
    }
   ],
   "source": [
    "%%time\n",
    "tst_data"
   ]
  },
  {
   "cell_type": "code",
   "execution_count": 62,
   "id": "435c586b",
   "metadata": {},
   "outputs": [
    {
     "name": "stdout",
     "output_type": "stream",
     "text": [
      "CPU times: user 16 µs, sys: 1 µs, total: 17 µs\n",
      "Wall time: 21.5 µs\n"
     ]
    },
    {
     "data": {
      "text/plain": [
       "(11390, 17)"
      ]
     },
     "execution_count": 62,
     "metadata": {},
     "output_type": "execute_result"
    }
   ],
   "source": [
    "%%time\n",
    "tst_data.shape"
   ]
  },
  {
   "cell_type": "markdown",
   "id": "68c709fd",
   "metadata": {},
   "source": [
    "### Building the model"
   ]
  },
  {
   "cell_type": "code",
   "execution_count": 64,
   "id": "60c4ab77",
   "metadata": {},
   "outputs": [
    {
     "name": "stdout",
     "output_type": "stream",
     "text": [
      "CPU times: user 311 ms, sys: 127 ms, total: 438 ms\n",
      "Wall time: 1.23 s\n"
     ]
    }
   ],
   "source": [
    "%%time\n",
    "from sklearn import tree\n",
    "from sklearn.preprocessing import StandardScaler, MinMaxScaler\n",
    "from sklearn.metrics import log_loss\n",
    "from lightgbm import LGBMClassifier\n",
    "from xgboost import XGBClassifier"
   ]
  },
  {
   "cell_type": "code",
   "execution_count": 65,
   "id": "e3279643",
   "metadata": {},
   "outputs": [
    {
     "name": "stdout",
     "output_type": "stream",
     "text": [
      "CPU times: user 38 µs, sys: 1 µs, total: 39 µs\n",
      "Wall time: 42 µs\n"
     ]
    }
   ],
   "source": [
    "%%time\n",
    "target_feature = 'A_Win'\n",
    "avoid = ['ScoreDiff', 'Season', 'DayNum', 'A_Win']\n",
    "features = [col for col in tournament_data.columns if col not in avoid]"
   ]
  },
  {
   "cell_type": "code",
   "execution_count": 66,
   "id": "6e9c1ca2",
   "metadata": {},
   "outputs": [
    {
     "name": "stdout",
     "output_type": "stream",
     "text": [
      "CPU times: user 3 µs, sys: 1e+03 ns, total: 4 µs\n",
      "Wall time: 6.91 µs\n"
     ]
    },
    {
     "data": {
      "text/plain": [
       "['A_TeamID',\n",
       " 'B_TeamID',\n",
       " 'A_Seed',\n",
       " 'B_Seed',\n",
       " 'A_WinRatio',\n",
       " 'A_AvgScoreGap',\n",
       " 'A_PointsRatio',\n",
       " 'B_WinRatio',\n",
       " 'B_AvgScoreGap',\n",
       " 'B_PointsRatio',\n",
       " 'SeedDiff',\n",
       " 'WinRatioDiff',\n",
       " 'GapAvgDiff',\n",
       " 'PointsRatioDiff']"
      ]
     },
     "execution_count": 66,
     "metadata": {},
     "output_type": "execute_result"
    }
   ],
   "source": [
    "%%time\n",
    "features"
   ]
  },
  {
   "cell_type": "code",
   "execution_count": 67,
   "id": "81b30e36",
   "metadata": {},
   "outputs": [],
   "source": [
    "features = ['A_TeamID',\n",
    "            'B_TeamID',\n",
    "            'A_Seed',\n",
    "            'B_Seed',\n",
    "            'A_WinRatio',\n",
    "            'A_AvgScoreGap',\n",
    "            'A_PointsRatio',\n",
    "            'B_WinRatio',\n",
    "            'B_AvgScoreGap',\n",
    "            'B_PointsRatio',\n",
    "            'SeedDiff',\n",
    "            'WinRatioDiff',\n",
    "            'GapAvgDiff',\n",
    "            'PointsRatioDiff',\n",
    "           ]"
   ]
  },
  {
   "cell_type": "code",
   "execution_count": 68,
   "id": "f70ddb75",
   "metadata": {},
   "outputs": [
    {
     "name": "stdout",
     "output_type": "stream",
     "text": [
      "CPU times: user 5 µs, sys: 1 µs, total: 6 µs\n",
      "Wall time: 11.7 µs\n"
     ]
    }
   ],
   "source": [
    "%%time\n",
    "# Develop a CV loop to avoid leaking data from future tournaments...\n",
    "def kfold_model(train_df, tst_df):\n",
    "    cvs = []\n",
    "    preds_test = []\n",
    "    seasons = train_df['Season'].unique()\n",
    "    \n",
    "    for season in seasons[1:]:\n",
    "        print(f'\\nValidating on season {season}')\n",
    "        X_train = train_df[train_df['Season'] < season][features].reset_index(drop = True).copy()\n",
    "        X_val = train_df[train_df['Season'] == season][features].reset_index(drop = True).copy()\n",
    "        \n",
    "        y_train = train_df[train_df['Season'] < season][target_feature].reset_index(drop = True).copy()\n",
    "        y_val = train_df[train_df['Season'] == season][target_feature].reset_index(drop = True).copy()\n",
    "        \n",
    "        tst_dataset = tst_data[features].copy()\n",
    "        \n",
    "        scaler = MinMaxScaler()\n",
    "        scaler.fit(X_train)\n",
    "        \n",
    "        X_train = scaler.transform(X_train)        \n",
    "        X_val = scaler.transform(X_val)\n",
    "        tst_dataset = scaler.transform(tst_dataset)\n",
    "        \n",
    "        model = XGBClassifier(n_estimators = 1024, random_state = 85)\n",
    "        model.fit(X_train, y_train, eval_set = [(X_val, y_val)], verbose = 0, early_stopping_rounds = 128)\n",
    "        pred = model.predict_proba(X_val)[:, 1]\n",
    "        \n",
    "        pred_test = model.predict_proba(tst_dataset)[:, 1]\n",
    "        preds_test.append(pred_test)\n",
    "        \n",
    "        loss = log_loss(y_val, pred)\n",
    "        cvs.append(loss)\n",
    "        \n",
    "        print(f'\\t -> Scored {loss:.4f}')\n",
    "    print(f'\\nLocal Cross Validation Score Is: {np.mean(cvs):.3f}', '\\n')\n",
    "    return preds_test\n"
   ]
  },
  {
   "cell_type": "code",
   "execution_count": 69,
   "id": "2b6c3dfe",
   "metadata": {},
   "outputs": [
    {
     "name": "stdout",
     "output_type": "stream",
     "text": [
      "\n",
      "Validating on season 2016\n",
      "[10:49:17] WARNING: /private/var/folders/kg/_wytrhns3kgck5_ldyyl74xw0000gn/T/pip-install-eap9soue/xgboost_c7d00fe342f64e88af96ab58bd3cab0c/build/temp.macosx-10.9-universal2-3.9/xgboost/src/learner.cc:1115: Starting in XGBoost 1.3.0, the default evaluation metric used with the objective 'binary:logistic' was changed from 'error' to 'logloss'. Explicitly set eval_metric if you'd like to restore the old behavior.\n",
      "\t -> Scored 0.6392\n",
      "\n",
      "Validating on season 2017\n",
      "[10:49:17] WARNING: /private/var/folders/kg/_wytrhns3kgck5_ldyyl74xw0000gn/T/pip-install-eap9soue/xgboost_c7d00fe342f64e88af96ab58bd3cab0c/build/temp.macosx-10.9-universal2-3.9/xgboost/src/learner.cc:1115: Starting in XGBoost 1.3.0, the default evaluation metric used with the objective 'binary:logistic' was changed from 'error' to 'logloss'. Explicitly set eval_metric if you'd like to restore the old behavior.\n",
      "\t -> Scored 0.5708\n",
      "\n",
      "Validating on season 2018\n",
      "[10:49:17] WARNING: /private/var/folders/kg/_wytrhns3kgck5_ldyyl74xw0000gn/T/pip-install-eap9soue/xgboost_c7d00fe342f64e88af96ab58bd3cab0c/build/temp.macosx-10.9-universal2-3.9/xgboost/src/learner.cc:1115: Starting in XGBoost 1.3.0, the default evaluation metric used with the objective 'binary:logistic' was changed from 'error' to 'logloss'. Explicitly set eval_metric if you'd like to restore the old behavior.\n",
      "\t -> Scored 0.6114\n",
      "\n",
      "Validating on season 2019\n",
      "[10:49:18] WARNING: /private/var/folders/kg/_wytrhns3kgck5_ldyyl74xw0000gn/T/pip-install-eap9soue/xgboost_c7d00fe342f64e88af96ab58bd3cab0c/build/temp.macosx-10.9-universal2-3.9/xgboost/src/learner.cc:1115: Starting in XGBoost 1.3.0, the default evaluation metric used with the objective 'binary:logistic' was changed from 'error' to 'logloss'. Explicitly set eval_metric if you'd like to restore the old behavior.\n",
      "\t -> Scored 0.5867\n",
      "\n",
      "Validating on season 2021\n",
      "[10:49:18] WARNING: /private/var/folders/kg/_wytrhns3kgck5_ldyyl74xw0000gn/T/pip-install-eap9soue/xgboost_c7d00fe342f64e88af96ab58bd3cab0c/build/temp.macosx-10.9-universal2-3.9/xgboost/src/learner.cc:1115: Starting in XGBoost 1.3.0, the default evaluation metric used with the objective 'binary:logistic' was changed from 'error' to 'logloss'. Explicitly set eval_metric if you'd like to restore the old behavior.\n",
      "\t -> Scored 0.5903\n",
      "\n",
      "Local Cross Validation Score Is: 0.600 \n",
      "\n",
      "CPU times: user 2.79 s, sys: 4.31 s, total: 7.1 s\n",
      "Wall time: 1.48 s\n"
     ]
    }
   ],
   "source": [
    "%%time\n",
    "predictions = kfold_model(tournament_data, tournament_data)"
   ]
  },
  {
   "cell_type": "code",
   "execution_count": 71,
   "id": "e1851949",
   "metadata": {},
   "outputs": [
    {
     "name": "stdout",
     "output_type": "stream",
     "text": [
      "CPU times: user 24.6 ms, sys: 3.81 ms, total: 28.4 ms\n",
      "Wall time: 28.5 ms\n"
     ]
    }
   ],
   "source": [
    "%%time\n",
    "mean_predictions = np.mean(predictions, 0)\n",
    "\n",
    "sub = tst_data[['ID', 'Pred']].copy()\n",
    "sub['Pred'] = mean_predictions\n",
    "sub.to_csv('submission_220312.csv', index = False)"
   ]
  }
 ],
 "metadata": {
  "kernelspec": {
   "display_name": "Python 3 (ipykernel)",
   "language": "python",
   "name": "python3"
  },
  "language_info": {
   "codemirror_mode": {
    "name": "ipython",
    "version": 3
   },
   "file_extension": ".py",
   "mimetype": "text/x-python",
   "name": "python",
   "nbconvert_exporter": "python",
   "pygments_lexer": "ipython3",
   "version": "3.9.10"
  }
 },
 "nbformat": 4,
 "nbformat_minor": 5
}
